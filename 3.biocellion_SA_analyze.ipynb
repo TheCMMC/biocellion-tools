{
 "cells": [
  {
   "cell_type": "markdown",
   "metadata": {},
   "source": [
    "# 3. Biocellion Sensitivity Analysis - Analyze\n",
    "This notebook defines functions to run and plot sensitivity analysis after sampling the parameter space and running simulations for the Biocellion ABM models by the CMMC that can be found in github.com/TheCMMC. For more information on the CMMC, visit www.thecmmc.org.  \n"
   ]
  },
  {
   "cell_type": "code",
   "execution_count": 1,
   "metadata": {},
   "outputs": [],
   "source": [
    "import matplotlib.pyplot as plt\n",
    "import pandas as pd\n",
    "import numpy as np\n",
    "\n",
    "from pathlib import Path\n",
    "from datetime import datetime\n",
    "\n",
    "from SALib.analyze.morris import analyze as morris_analyze\n",
    "from SALib.plotting.morris import horizontal_bar_plot, covariance_plot"
   ]
  },
  {
   "cell_type": "markdown",
   "metadata": {
    "tags": []
   },
   "source": [
    "## User settings"
   ]
  },
  {
   "cell_type": "code",
   "execution_count": 2,
   "metadata": {},
   "outputs": [],
   "source": [
    "# Set this data dir to the place where you cloned the repository https://github.com/TheCMMC/biocellion-data\n",
    "DATA_DIR = Path(\"/home/jaroknor/NLeSC/InSilicoMeat/Biocellion/biocellion-data/PLOSone_ABM-CFD-microcarrier\")\n",
    "MODEL_DIR = Path(\"/home/jaroknor/NLeSC/InSilicoMeat/Biocellion/Biocellion-3.1/biocellion-3.1/biocellion-user/ABM-microcarriers\")\n",
    "TOOLS_DIR = Path(\"/home/jaroknor/NLeSC/InSilicoMeat/Biocellion/biocellion-tools\")\n",
    "FIG_DIR = Path(\"./figures\")"
   ]
  },
  {
   "cell_type": "code",
   "execution_count": 3,
   "metadata": {},
   "outputs": [],
   "source": [
    "SEED = 20190605  # TODO, get seed from (to be) generated sample file"
   ]
  },
  {
   "cell_type": "markdown",
   "metadata": {},
   "source": [
    "## Run Elementary Effects sensitivity analysis\n",
    "After running the simulations for the sampled input parameters we can analyze its output using the Elementary Effects method, also called Morris method. For more information on this method see [Morris 1991](http://www.tandfonline.com/doi/abs/10.1080/00401706.1991.10484804) and [Campolongo et al. 2007](http://www.sciencedirect.com/science/article/pii/S1364815206002805). We use the package SALib that implements this and other methods along with various helper function. For more information on SALib see [the documentation](https://salib.readthedocs.io/en/latest/)."
   ]
  },
  {
   "cell_type": "code",
   "execution_count": 4,
   "metadata": {},
   "outputs": [],
   "source": [
    "class Analysis:\n",
    "    def __init__(self, model_output_base_dir, time_step=50000, state=\"attached\", seed=None):\n",
    "        self.model_output_base_dir = model_output_base_dir\n",
    "        self.time_step = time_step\n",
    "        self.state = state\n",
    "        self.seed = seed\n",
    "        \n",
    "        self.model_output = None\n",
    "        self.output_location = None\n",
    "        self.timestamp = None\n",
    "        self.sa_output = None\n",
    "        self.sa_output_path = None\n",
    "        self.problem = None\n",
    "        \n",
    "        self.model_output_timestamp = self.model_output_base_dir.name[-15:]\n",
    "        self.sa_output_dir = model_output_base_dir / f\"SA_{self.timestamp}\"\n",
    "        self._set_timestamp()\n",
    "        \n",
    "        \n",
    "    def _set_timestamp(self):\n",
    "        self.init_time = datetime.now()\n",
    "        self.timestamp = self.init_time.strftime(\"%Y%m%d-%H%M%S\")\n",
    "\n",
    "\n",
    "    def _get_param_sample(self):\n",
    "        \"\"\"Get parameter list and the problem formulation.\"\"\"\n",
    "        param_sample_filename = self.model_output_base_dir / f\"parameter_sample_{self.model_output_timestamp}.csv\"\n",
    "        param_sample = pd.read_csv(param_sample_filename, index_col=0)\n",
    "        return param_sample.to_numpy()\n",
    "        \n",
    "        \n",
    "    def _get_problem(self):\n",
    "        param_info_filename = self.model_output_base_dir / f\"parameter_info_{self.model_output_timestamp}.csv\"\n",
    "        param_info = pd.read_csv(param_info_filename)\n",
    "#         print(param_info)\n",
    "        problem = {\n",
    "          'num_vars': len(param_info),\n",
    "          'names': param_info[\"name\"].values.tolist(),\n",
    "          'bounds': param_info[[\"range_min\",\"range_max\"]].values.tolist()\n",
    "        }\n",
    "        return problem\n",
    "        \n",
    "    def _get_single_output(self, filename, state, step):\n",
    "        get_state = False\n",
    "        with open(filename, 'r' ) as f :\n",
    "            for line in f:\n",
    "                if f\"{str(step)}/120000\" in line:\n",
    "#                     print(line)\n",
    "                    get_state=True\n",
    "                if (state in line) and get_state:\n",
    "#                     print(line)\n",
    "                    value = int( line.strip().split(':')[-1] ) \n",
    "                    break\n",
    "#         print(value)\n",
    "        return value\n",
    "        # if the lengths of these list are different print error\n",
    "\n",
    "        \n",
    "    def _get_model_outputs(self, state, step):\n",
    "        model_outputs = np.array([])\n",
    "#         print(model_outputs)\n",
    "        for output_dir in sorted(self.model_output_base_dir.glob(\"output_*\")):\n",
    "            filename = output_dir / \"output.log\"\n",
    "#             print(filename)\n",
    "            model_outputs = np.append(model_outputs, self._get_single_output(filename, state, step))\n",
    "        return model_outputs\n",
    "        \n",
    "        \n",
    "    def run(self):\n",
    "        param_sample = self._get_param_sample()\n",
    "        problem = self._get_problem()\n",
    "        state_dict = {'alive': 'Live Cells', 'attached': 'Live Attached Cells', 'dead': 'Death Cells', 'removed': 'Removed Cells'}\n",
    "        model_outputs = self._get_model_outputs(state_dict[self.state], self.time_step)\n",
    "        \n",
    "        self.sa_output = morris_analyze(problem, param_sample, model_outputs, seed = self.seed)\n",
    "\n",
    "        \n",
    "    def plot(self):\n",
    "        fig, ax = plt.subplots(1,2)\n",
    "        fig.set_size_inches(18.5, 5)\n",
    "        plt.figure(dpi=300)\n",
    "        horizontal_bar_plot(ax[0], self.sa_output, {})\n",
    "        covariance_plot(ax[1], self.sa_output, {})\n",
    "        fig.savefig(FIG_DIR / f\"SA_{self.model_output_timestamp}_{self.state}_{self.time_step}.png\", bbox_inches='tight')\n",
    "        \n",
    "    "
   ]
  },
  {
   "cell_type": "code",
   "execution_count": 10,
   "metadata": {},
   "outputs": [
    {
     "data": {
      "image/png": "[encoded data removed]",
      "text/plain": [
       "<Figure size 1332x360 with 2 Axes>"
      ]
     },
     "metadata": {
      "needs_background": "light"
     },
     "output_type": "display_data"
    },
    {
     "data": {
      "text/plain": [
       "<Figure size 1800x1200 with 0 Axes>"
      ]
     },
     "metadata": {},
     "output_type": "display_data"
    }
   ],
   "source": [
    "model_output_base_dir = MODEL_DIR / \"output_20210604-175935\"\n",
    "analysis = Analysis(model_output_base_dir, time_step = 50000, state=\"dead\", seed = SEED)\n",
    "# analysis.get_model_output()\n",
    "analysis.run()\n",
    "analysis.plot()"
   ]
  },
  {
   "cell_type": "code",
   "execution_count": 72,
   "metadata": {},
   "outputs": [
    {
     "data": {
      "text/html": [
       "<div>\n",
       "<style scoped>\n",
       "    .dataframe tbody tr th:only-of-type {\n",
       "        vertical-align: middle;\n",
       "    }\n",
       "\n",
       "    .dataframe tbody tr th {\n",
       "        vertical-align: top;\n",
       "    }\n",
       "\n",
       "    .dataframe thead th {\n",
       "        text-align: right;\n",
       "    }\n",
       "</style>\n",
       "<table border=\"1\" class=\"dataframe\">\n",
       "  <thead>\n",
       "    <tr style=\"text-align: right;\">\n",
       "      <th></th>\n",
       "      <th>names</th>\n",
       "      <th>mu</th>\n",
       "      <th>mu_star</th>\n",
       "      <th>sigma</th>\n",
       "      <th>mu_star_conf</th>\n",
       "    </tr>\n",
       "  </thead>\n",
       "  <tbody>\n",
       "    <tr>\n",
       "      <th>6</th>\n",
       "      <td>A_AGENT_STIFFNESS_CM</td>\n",
       "      <td>18.15</td>\n",
       "      <td>31.35</td>\n",
       "      <td>41.088015</td>\n",
       "      <td>20.034750</td>\n",
       "    </tr>\n",
       "    <tr>\n",
       "      <th>2</th>\n",
       "      <td>STRESS_TRESHOLD</td>\n",
       "      <td>19.50</td>\n",
       "      <td>24.00</td>\n",
       "      <td>22.770595</td>\n",
       "      <td>10.041977</td>\n",
       "    </tr>\n",
       "    <tr>\n",
       "      <th>5</th>\n",
       "      <td>A_AGENT_BOND_DESTROY_FACTOR_CC</td>\n",
       "      <td>-13.65</td>\n",
       "      <td>21.45</td>\n",
       "      <td>24.753283</td>\n",
       "      <td>10.028866</td>\n",
       "    </tr>\n",
       "    <tr>\n",
       "      <th>3</th>\n",
       "      <td>A_AGENT_STIFFNESS_CC</td>\n",
       "      <td>1.35</td>\n",
       "      <td>19.65</td>\n",
       "      <td>37.738906</td>\n",
       "      <td>18.387964</td>\n",
       "    </tr>\n",
       "    <tr>\n",
       "      <th>1</th>\n",
       "      <td>MECH_STRESS_TRESHOLD_DEATH</td>\n",
       "      <td>16.20</td>\n",
       "      <td>18.90</td>\n",
       "      <td>24.554022</td>\n",
       "      <td>13.337293</td>\n",
       "    </tr>\n",
       "    <tr>\n",
       "      <th>7</th>\n",
       "      <td>A_AGENT_BOND_S_CM</td>\n",
       "      <td>-3.45</td>\n",
       "      <td>18.15</td>\n",
       "      <td>32.365491</td>\n",
       "      <td>16.104791</td>\n",
       "    </tr>\n",
       "    <tr>\n",
       "      <th>8</th>\n",
       "      <td>A_AGENT_BOND_DESTROY_FACTOR_CM</td>\n",
       "      <td>13.20</td>\n",
       "      <td>15.00</td>\n",
       "      <td>18.300273</td>\n",
       "      <td>10.049550</td>\n",
       "    </tr>\n",
       "    <tr>\n",
       "      <th>4</th>\n",
       "      <td>A_AGENT_BOND_S_CC</td>\n",
       "      <td>11.40</td>\n",
       "      <td>14.10</td>\n",
       "      <td>21.038061</td>\n",
       "      <td>9.511139</td>\n",
       "    </tr>\n",
       "    <tr>\n",
       "      <th>0</th>\n",
       "      <td>STRESS_HILL_EXPONENT</td>\n",
       "      <td>-0.60</td>\n",
       "      <td>10.80</td>\n",
       "      <td>18.099724</td>\n",
       "      <td>8.587365</td>\n",
       "    </tr>\n",
       "  </tbody>\n",
       "</table>\n",
       "</div>"
      ],
      "text/plain": [
       "                            names     mu  mu_star      sigma  mu_star_conf\n",
       "6            A_AGENT_STIFFNESS_CM  18.15    31.35  41.088015     20.034750\n",
       "2                 STRESS_TRESHOLD  19.50    24.00  22.770595     10.041977\n",
       "5  A_AGENT_BOND_DESTROY_FACTOR_CC -13.65    21.45  24.753283     10.028866\n",
       "3            A_AGENT_STIFFNESS_CC   1.35    19.65  37.738906     18.387964\n",
       "1      MECH_STRESS_TRESHOLD_DEATH  16.20    18.90  24.554022     13.337293\n",
       "7               A_AGENT_BOND_S_CM  -3.45    18.15  32.365491     16.104791\n",
       "8  A_AGENT_BOND_DESTROY_FACTOR_CM  13.20    15.00  18.300273     10.049550\n",
       "4               A_AGENT_BOND_S_CC  11.40    14.10  21.038061      9.511139\n",
       "0            STRESS_HILL_EXPONENT  -0.60    10.80  18.099724      8.587365"
      ]
     },
     "execution_count": 72,
     "metadata": {},
     "output_type": "execute_result"
    }
   ],
   "source": [
    "df = pd.DataFrame()\n",
    "results = analysis.sa_output\n",
    "keys = results.keys()\n",
    "results_df = df.from_dict(results)\n",
    "results_df.sort_values(\"mu_star\", ascending=False)"
   ]
  },
  {
   "cell_type": "code",
   "execution_count": null,
   "metadata": {},
   "outputs": [],
   "source": []
  }
 ],
 "metadata": {
  "kernelspec": {
   "display_name": "Python 2",
   "language": "python",
   "name": "python2"
  },
  "language_info": {
   "codemirror_mode": {
    "name": "ipython",
    "version": 3
   },
   "file_extension": ".py",
   "mimetype": "text/x-python",
   "name": "python",
   "nbconvert_exporter": "python",
   "pygments_lexer": "ipython3",
   "version": "3.9.4"
  }
 },
 "nbformat": 4,
 "nbformat_minor": 4
}
