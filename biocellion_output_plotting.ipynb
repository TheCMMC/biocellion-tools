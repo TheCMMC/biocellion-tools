{
 "cells": [
  {
   "cell_type": "code",
   "execution_count": 1,
   "metadata": {},
   "outputs": [],
   "source": [
    "import matplotlib.pyplot as plt\n",
    "import paraview.simple as pvs\n",
    "import pandas as pd\n",
    "import numpy as np\n",
    "import math\n",
    "from pathlib import Path\n"
   ]
  },
  {
   "cell_type": "markdown",
   "metadata": {},
   "source": [
    "# Biocellion Output Plotting\n",
    "This notebook defines functions to read and plot the biocellion output data for the Biocellion ABM models by the CMMC that can be found in github.com/TheCMMC. For more information on the CMMC, visit www.thecmmc.org.  \n",
    "\n",
    "To use these plotting functions the biocellion output summary should be in one directory with the following naming pattern:\n",
    "`output_parameter{par_id}_trial{trial}.txt`\n",
    "\n",
    "If the scripts and instructions in https://github.com/TheCMMC/biocellion-tools have been used to create the output, this notebook should be able to run with the resulting data."
   ]
  },
  {
   "cell_type": "markdown",
   "metadata": {
    "tags": []
   },
   "source": [
    "## User settings"
   ]
  },
  {
   "cell_type": "code",
   "execution_count": 2,
   "metadata": {},
   "outputs": [],
   "source": [
    "# Set this data folder to the place where you cloned the repository https://github.com/TheCMMC/biocellion-data\n",
    "DATA_FOLDER = Path(\"/home/jaroknor/NLeSC/InSilicoMeat/Biocellion/biocellion-data\")\n",
    "MODEL_FOLDER = Path(\"/home/jaroknor/NLeSC/InSilicoMeat/Biocellion/Biocellion-3.1/biocellion-3.1/biocellion-user\")\n",
    "FIG_FOLDER = Path(\"./figures\")"
   ]
  },
  {
   "cell_type": "code",
   "execution_count": 3,
   "metadata": {},
   "outputs": [],
   "source": [
    "ABM_ONLY_DATA_FOLDER = DATA_FOLDER / \"PLOSone_ABM-only-microcarrier\"\n",
    "ABM_ONLY_MODEL_FOLDER = MODEL_FOLDER / \"ABM-only-microcarriers\"\n",
    "ABM_ONLY_PAR_FILENAME = ABM_ONLY_MODEL_FOLDER / \"Parameters-ABM-Only.csv\"\n",
    "\n",
    "ABM_CFD_DATA_FOLDER = DATA_FOLDER / \"PLOSone_ABM-CFD-microcarrier\"\n",
    "ABM_CFD_MODEL_FOLDER = MODEL_FOLDER / \"ABM-microcarriers\"\n",
    "ABM_CFD_PVTP_FOLDER = ABM_CFD_MODEL_FOLDER / \"output_first_manuscript\"\n",
    "ABM_CFD_PAR_FILENAME = ABM_CFD_DATA_FOLDER / \"Parameters-ABM-CFD.csv\""
   ]
  },
  {
   "cell_type": "code",
   "execution_count": 4,
   "metadata": {},
   "outputs": [],
   "source": [
    "COLOR_DICT={'live': '#1f77b4', 'attached': '#2ca02c', 'dead': '#ff7f0e', 'removed': '#d62728'}\n",
    "HATCH_DICT= {'live': '//', 'attached': '..', 'dead': '--', 'removed': '\\\\\\\\'}\n",
    "# to use the hatch dict: ax.fill_between(..., hatch=HATCH_DICT[state])"
   ]
  },
  {
   "cell_type": "markdown",
   "metadata": {},
   "source": [
    "## Plotting functions"
   ]
  },
  {
   "cell_type": "code",
   "execution_count": 5,
   "metadata": {
    "tags": []
   },
   "outputs": [],
   "source": [
    "def read_parameter_file(filename):\n",
    "    par_df = pd.read_csv(filename, index_col=0, header=2, skiprows=range(3,7), usecols=(lambda x: x not in str(list(range(11)))))\n",
    "    return par_df\n",
    "    \n",
    "def read_summary_file(par_id, trial, data_folder, states=[\"live\", \"attached\", \"dead\", \"removed\"]):\n",
    "    filename = data_folder / f\"output_parameter{par_id}_trial{trial}.txt\"\n",
    "    live, attached, dead, removed = ([],[],[],[])\n",
    "\n",
    "    with open(filename, 'r' ) as f :\n",
    "        for line in f:\n",
    "            if 'Live Cells' in line :\n",
    "              live.append( int( line.strip().split(':')[-1] ) )\n",
    "            if 'Live Attached Cells' in line :\n",
    "              attached.append( int( line.strip().split(':')[-1] ) )\n",
    "            elif 'Death Cells' in line:\n",
    "              dead.append( int( line.strip().split(':')[-1] ))\n",
    "            elif 'Removed Cells' in line :\n",
    "              removed.append( int( line.strip().split(':')[-1] ))\n",
    "    \n",
    "    # if the lengths of these list are different print error\n",
    "    assert len(live)==len(attached)==len(dead)==len(removed), \"Cell count lists are of different lenghts\"\n",
    "    \n",
    "    return pd.DataFrame({\"live\":live, \"attached\":attached, \"dead\":dead, \"removed\":removed})[states]\n",
    "\n",
    "def load_parameter_set(par_id, data_folder, trials=range(1,11), as_dict=False, states=[\"live\", \"attached\", \"dead\", \"removed\"]):\n",
    "    par_set = []\n",
    "    for trial in trials:\n",
    "        trial_data = read_summary_file(par_id, trial, data_folder, states=states)\n",
    "        par_set.append(trial_data)\n",
    "    if as_dict:\n",
    "        par_set=dict(zip(trials,par_set))\n",
    "    return par_set\n",
    "\n",
    "def compute_statistics(par_set):\n",
    "    par_set = pd.concat(par_set)\n",
    "    grouped_par_set = par_set.groupby(par_set.index)\n",
    "    means = grouped_par_set.mean()\n",
    "    stds = grouped_par_set.std()\n",
    "    stds = grouped_par_set.std()\n",
    "    return means, stds\n",
    "\n",
    "def plot_trials(par_id, data_folder, trials=range(1,11), states=[\"live\", \"attached\", \"dead\", \"removed\"], ax=None, legend=True):\n",
    "    if ax==None:\n",
    "        fig, ax = plt.subplots()\n",
    "    par_set = load_parameter_set(par_id, data_folder, trials=trials, as_dict=True)\n",
    "    if legend:\n",
    "        legend = ax.legend(loc='upper left')\n",
    "    for trial in trials:        \n",
    "        par_set[trial].plot(ax=ax, alpha=.5, legend=legend, color=COLOR_DICT)\n",
    "        ax.set_prop_cycle(None)\n",
    "        legend=None\n",
    "\n",
    "        \n",
    "\n",
    "def plot_stats(par_id, data_folder, states=[\"live\", \"attached\", \"dead\", \"removed\"], ax=None, legend=True, par_box=False):\n",
    "    if ax==None:\n",
    "        fig, ax = plt.subplots()\n",
    "    par_set = load_parameter_set(par_id, data_folder, states=states)\n",
    "    means, stds = compute_statistics(par_set)\n",
    "    under_line     = (means-stds)\n",
    "    over_line      = (means+stds)\n",
    "    means.plot(ax=ax, label=means.columns, color=COLOR_DICT)\n",
    "    \n",
    "    for state in states:\n",
    "        ax.fill_between(stds.index, under_line[state], over_line[state], alpha=.3, color=COLOR_DICT[state])\n",
    "    ax.title.set_text(f\"Statistics of parameter set {par_id}\" )\n",
    "    \n",
    "    if legend:\n",
    "        ax.legend(loc='center left')\n",
    "    \n",
    "    if par_box:\n",
    "        par_df = read_parameter_file(ABM_CFD_PAR_FILENAME)\n",
    "        par_str = \"\"\n",
    "        props = dict(boxstyle='round', facecolor='wheat', alpha=0.5)\n",
    "        for par in par_df.columns:\n",
    "            par_str += f\"{par}: {par_df.at[par_id, par]}\\n\"\n",
    "        ax.text(0.05, 0.95, par_str, transform=ax.transAxes, verticalalignment='top', bbox=props, size=8)\n",
    "        \n",
    "def plot_compare_rpms(par_ids, data_folder, states=[\"live\", \"attached\", \"dead\", \"removed\"], ylim=[None,None], par_box=False):\n",
    "    prows = math.ceil(len(par_ids)/2)\n",
    "    fig, axs = plt.subplots(prows, 2, figsize=(20, 5*prows), sharey=\"row\")\n",
    "    axs=axs.flatten()\n",
    "    for i, par_id in enumerate(par_ids): \n",
    "        plot_stats(par_id, data_folder, ax=axs[i], states=states, par_box=par_box)\n",
    "        axs[i].set_ylim(ylim)\n",
    "    plt.savefig(FIG_FOLDER / f\"compare_rpms_parid_{par_ids[0]}-{par_ids[-1]}.png\")\n"
   ]
  },
  {
   "cell_type": "code",
   "execution_count": 6,
   "metadata": {},
   "outputs": [],
   "source": [
    "par_df = read_parameter_file(ABM_CFD_PAR_FILENAME)\n",
    "# print(par_df)"
   ]
  },
  {
   "cell_type": "code",
   "execution_count": 7,
   "metadata": {
    "tags": []
   },
   "outputs": [],
   "source": [
    "cell_counts = read_summary_file(17, 8, ABM_CFD_DATA_FOLDER)\n",
    "# cell_counts.plot(color=COLOR_DICT)"
   ]
  },
  {
   "cell_type": "code",
   "execution_count": 8,
   "metadata": {
    "tags": []
   },
   "outputs": [],
   "source": [
    "for i in range(5,5):\n",
    "    fig, ax = plt.subplots(1,2,figsize=(20, 5))\n",
    "    plot_trials(i, ABM_CFD_DATA_FOLDER, ax=ax[0], legend=False)\n",
    "    plot_stats(i, ABM_CFD_DATA_FOLDER, ax=ax[1], legend=True)\n"
   ]
  },
  {
   "cell_type": "code",
   "execution_count": 9,
   "metadata": {
    "scrolled": true,
    "tags": []
   },
   "outputs": [],
   "source": [
    "#plot_compare_rpms(range(5,19), ABM_CFD_DATA_FOLDER, states=[\"live\", \"attached\", \"dead\", \"removed\"], ylim=[-10,400], par_box=True)"
   ]
  },
  {
   "cell_type": "markdown",
   "metadata": {},
   "source": [
    "## Plotting agent stress"
   ]
  },
  {
   "cell_type": "code",
   "execution_count": 10,
   "metadata": {},
   "outputs": [],
   "source": [
    "from paraview import servermanager as sm\n",
    "from paraview.vtk.numpy_interface import dataset_adapter as dsa\n",
    "\n",
    "def read_pvtp_files(pvtp_folder, time_range):\n",
    "    pvs._DisableFirstRenderCameraReset()\n",
    "    df_step_dict = {}\n",
    "    \n",
    "    for step in time_range:\n",
    "        file_name = pvtp_folder / f'agent_{str(step).zfill(6)}.pvtp'\n",
    "#         print(file_name)\n",
    "        assert file_name.exists()\n",
    "        reader = pvs.XMLPartitionedPolydataReader(FileName = str(file_name))\n",
    "        vtk_data = sm.Fetch(reader)\n",
    "        \n",
    "        object_data = dsa.WrapDataObject(vtk_data)\n",
    "        data = object_data.GetPointData()\n",
    "        cell_df = pd.DataFrame()\n",
    "        \n",
    "        for i, name in enumerate(data.keys()):\n",
    "            cell_df[name]=data.GetArray(i)\n",
    "            \n",
    "        pvs.Delete(reader)\n",
    "        df_step_dict[step] = cell_df\n",
    "        \n",
    "    return df_step_dict\n",
    "\n",
    "def compute_cell_statistics(df_step_dict):\n",
    "    means = pd.DataFrame()\n",
    "    stds = pd.DataFrame()\n",
    "    for step in df_step_dict.keys():\n",
    "        mean = df_step_dict[step].mean()\n",
    "        mean_df = pd.DataFrame(mean, columns=[step]).transpose()\n",
    "        means = means.append(mean_df)\n",
    "        \n",
    "        std =  df_step_dict[step].std()\n",
    "        std_df = pd.DataFrame(std, columns=[step]).transpose()\n",
    "        stds = stds.append(std_df)\n",
    "        \n",
    "    return means, stds\n",
    "\n",
    "def plot_cells_hist(par_id, trial, key, step, pvtp_folder):\n",
    "    pvtp_folder = pvtp_folder / f\"output_parameter{par_id}_trial{trial}\"\n",
    "    df_step_dict = read_pvtp_files(pvtp_folder, [step])\n",
    "    cell_df = df_step_dict[step]\n",
    "    cell_df[key].plot.hist(bins=100)\n",
    "    plt.savefig(FIG_FOLDER / f\"cell_hist_{key}_{par_id}_{trial}_{step}.png\")\n",
    "    \n",
    "def plot_cells_stats(par_id, key, data_folder, trials=range(1,11), time_range=range(0, 120000, 2000), ax=None, par_box=False):\n",
    "    if ax==None:\n",
    "        fig, ax = plt.subplots()\n",
    "    df_step_dict = {step:pd.DataFrame() for step in time_range}\n",
    "    \n",
    "    for trial in trials:\n",
    "        pvtp_folder = data_folder / f\"output_parameter{par_id}_trial{trial}\"\n",
    "        single_trial = read_pvtp_files(pvtp_folder, time_range)\n",
    "        for step in time_range:\n",
    "            df_step_dict[step] = pd.concat([df_step_dict[step], single_trial[step]], )\n",
    "\n",
    "    means, stds = compute_cell_statistics(df_step_dict)\n",
    "    under_line     = (means-stds)[key]\n",
    "    over_line      = (means+stds)[key]\n",
    "    means[key].plot(ax=ax, label=key)\n",
    "    ax.fill_between(stds.index, under_line, over_line, alpha=.3)\n",
    "    ax.title.set_text(f\"Mean {key} for parameter set {par_id}\" )\n",
    "    \n",
    "    if par_box:\n",
    "        par_df = read_parameter_file(ABM_CFD_PAR_FILENAME)\n",
    "        par_str = \"\"\n",
    "        props = dict(boxstyle='round', facecolor='wheat', alpha=0.5)\n",
    "        for par in par_df.columns:\n",
    "            par_str += f\"{par}: {par_df.at[par_id, par]}\\n\"\n",
    "        ax.text(0.05, 0.95, par_str, transform=ax.transAxes, verticalalignment='top', bbox=props, size=8)\n",
    "    \n",
    "def plot_cells_compare_rpms(par_ids, key, data_folder, trials=range(1,11), time_range=range(0, 120000, 2000), ylim=[None,None], par_box=False):\n",
    "    prows = math.ceil(len(par_ids)/2)\n",
    "    fig, axs = plt.subplots(prows, 2, figsize=(20, 5*prows), sharey=\"row\")\n",
    "    axs=axs.flatten()\n",
    "    for i, par_id in enumerate(par_ids): \n",
    "        plot_cells_stats(par_id, key, data_folder, trials=trials, time_range=time_range, ax=axs[i], par_box=par_box)\n",
    "        axs[i].set_ylim(ylim)\n",
    "    plt.savefig(FIG_FOLDER / f\"compare_{key}_{par_ids[0]}-{par_ids[-1]}.png\")"
   ]
  },
  {
   "cell_type": "code",
   "execution_count": 11,
   "metadata": {
    "tags": []
   },
   "outputs": [
    {
     "data": {
      "image/png": "[encoded data removed]",
      "text/plain": [
       "<Figure size 432x288 with 1 Axes>"
      ]
     },
     "metadata": {
      "needs_background": "light"
     },
     "output_type": "display_data"
    }
   ],
   "source": [
    "plot_cells_hist(6, 5, \"stress\", 100000, ABM_CFD_PVTP_FOLDER)"
   ]
  },
  {
   "cell_type": "code",
   "execution_count": 12,
   "metadata": {
    "tags": []
   },
   "outputs": [
    {
     "data": {
      "image/png": "[encoded data removed]",
      "text/plain": [
       "<Figure size 432x288 with 1 Axes>"
      ]
     },
     "metadata": {
      "needs_background": "light"
     },
     "output_type": "display_data"
    }
   ],
   "source": [
    "plot_cells_stats(19, \"stress\", ABM_CFD_PVTP_FOLDER)"
   ]
  },
  {
   "cell_type": "code",
   "execution_count": 13,
   "metadata": {},
   "outputs": [],
   "source": [
    "#plot_cells_compare_rpms(range(19,33), \"stress\", ABM_CFD_PVTP_FOLDER, trials=range(1,11), time_range=range(0, 120000, 2000), ylim=[-2.0E-6, 4.0E-6], par_box=True)"
   ]
  },
  {
   "cell_type": "markdown",
   "metadata": {},
   "source": [
    "## Plot cell distribution"
   ]
  },
  {
   "cell_type": "code",
   "execution_count": 284,
   "metadata": {},
   "outputs": [],
   "source": [
    "from paraview import servermanager as sm\n",
    "from paraview.vtk.numpy_interface import dataset_adapter as dsa\n",
    "# from tqdm import tnrange, tqdm_notebook\n",
    "\n",
    "\n",
    "def read_pvtp_files(pvtp_folder, time_range, filter_key=None, filter_val=None, by_step=False, step_digits=None):\n",
    "    pvs._DisableFirstRenderCameraReset()\n",
    "    multi_step_df = pd.DataFrame()\n",
    "    \n",
    "    for step in time_range:\n",
    "        if step_digits:\n",
    "            digits = step_digits\n",
    "        else:\n",
    "            digits = len(str(max(time_range)))\n",
    "        \n",
    "        file_name = pvtp_folder / f'agent_{str(step).zfill(digits)}.pvtp'\n",
    "        try:\n",
    "            assert file_name.exists()\n",
    "        except AssertionError:\n",
    "            print(f\"{file_name} does not exist\")\n",
    "            pass\n",
    "        reader = pvs.XMLPartitionedPolydataReader(FileName = str(file_name))\n",
    "        vtk_data = sm.Fetch(reader)\n",
    "        \n",
    "        object_data = dsa.WrapDataObject(vtk_data)\n",
    "        data = object_data.GetPointData()\n",
    "        agent_df = pd.DataFrame()\n",
    "        \n",
    "        for i, name in enumerate(data.keys()):\n",
    "            agent_df[name]=data.GetArray(i)\n",
    "        \n",
    "        points = object_data.Points\n",
    "\n",
    "        for i, coord in enumerate([\"x\",\"y\",\"z\"]):\n",
    "            agent_df[coord]=np.transpose(points)[i]\n",
    "\n",
    "        pvs.Delete(reader)\n",
    "  \n",
    "        if by_step:\n",
    "            agent_df[\"step\"]=step\n",
    "            agent_df.set_index(\"step\", drop=True, inplace=True)    \n",
    "        \n",
    "        if filter_key and filter_val:\n",
    "            agent_df = agent_df[agent_df[filter_key]==filter_val]\n",
    "\n",
    "        multi_step_df = multi_step_df.append(agent_df)\n",
    "                    \n",
    "    return multi_step_df\n",
    "\n",
    "def load_all_simulations(output_folder, par_ids, trials):\n",
    "    multi_sim_df = pd.DataFrame()\n",
    "    for par_id in par_ids:\n",
    "        for trial in trials:\n",
    "            pvtp_folder = output_folder / f\"output_parameter{par_id}_trial{trial}\"\n",
    "            try:\n",
    "                multi_step_df = read_pvtp_files(pvtp_folder, range(0, 120000, 2000), filter_key=\"radius\", filter_val=75.0, by_step=True)\n",
    "            except:\n",
    "                continue\n",
    "            multi_step_df[\"par_id\"]=par_id\n",
    "            multi_step_df[\"trial\"]=trial\n",
    "            multi_step_df[\"r\"] = np.sqrt(np.power((multi_step_df[\"x\"] - 28000) ,2) + np.power((multi_step_df[\"y\"] - 28000) ,2))\n",
    "            multi_sim_df = multi_sim_df.append(multi_step_df)\n",
    "    return multi_sim_df\n",
    "\n",
    "\n",
    "def load_particle_tracing(output_folder, rpm, steps):\n",
    "    pvtp_folder = output_folder / f\"output_mc_only_{rpm}\"\n",
    "    multi_step_df = read_pvtp_files(pvtp_folder, range(0, steps, 2000), filter_key=\"radius\", filter_val=75.0, by_step=True, step_digits=7)\n",
    "    multi_step_df[\"par_id\"]=par_id\n",
    "    multi_step_df[\"trial\"]=trial\n",
    "    multi_step_df[\"r\"] = np.sqrt(np.power((multi_step_df[\"x\"] - 28000) ,2) + np.power((multi_step_df[\"y\"] - 28000) ,2))\n",
    "    return multi_step_df\n",
    "\n",
    "\n",
    "def draw_vessel(vessel=True, impeller = True, color=\"w\"):\n",
    "    ves_h=42895; ves_r=27500\n",
    "    if vessel:\n",
    "        vessel_points = [[-ves_r,0], [ves_r,0], [ves_r,ves_h], [-ves_r,ves_h]]\n",
    "        vessel_bound = plt.Polygon(vessel_points, fill=None, edgecolor=color)\n",
    "        plt.gca().add_patch(vessel_bound)\n",
    "    \n",
    "    if impeller:\n",
    "        ax_r=500; rod_h=8000; rod_l=19000; rod_off=10000\n",
    "        impeller_points = [[-rod_l, rod_off], [rod_l, rod_off], \n",
    "                           [rod_l, rod_off+rod_h], [ax_r, rod_off+rod_h], \n",
    "                           [ax_r, ves_h], [-ax_r, ves_h], \n",
    "                           [-ax_r, rod_off+rod_h], [-rod_l, rod_off+rod_h]]\n",
    "        impeller = plt.Polygon(impeller_points, fill=None, edgecolor=color)\n",
    "        plt.gca().add_patch(impeller)\n",
    "        \n",
    "\n",
    "def plot_mc_distribution(step, rpm, data, n_steps=None, n_bins=100, plot_type=\"heatmap\", include_vessel=True, save_fig=True):\n",
    "    min_step = step-n_steps if (n_steps and step-n_steps < 0) else None\n",
    "    data = data.loc[min_step:step]\n",
    "    domain = [0, 27500, 0, 42895]\n",
    "    aspect = domain[3]/domain[1]\n",
    "    extent = [domain[0], domain[1]+1000, domain[2], domain[3]+1000]\n",
    "\n",
    "    color_dict = {\"heatmap\":\"w\", \"scatter\":\"k\"}\n",
    "    plt.figure(dpi=300)\n",
    "    plt.gca().set_aspect('equal', adjustable='box')         \n",
    "      \n",
    "    if plot_type==\"heatmap\":    \n",
    "        heatmap, xedges, yedges = np.histogram2d(data[\"r\"], data[\"z\"], \n",
    "                                                 bins=[n_bins, int(n_bins*aspect)], \n",
    "                                                 range=[extent[0:2],extent[2:4]])\n",
    "        print(xedges[-1], yedges[-1])\n",
    "        im = plt.imshow(heatmap.T,  origin='lower', cmap=\"inferno\", extent=extent, aspect=1)\n",
    "        plt.colorbar(im)\n",
    "    \n",
    "    elif plot_type==\"scatter\":\n",
    "        size = 1000/data.shape[0]\n",
    "        plt.scatter(data[[\"r\"]],data[[\"z\"]], s=size, c=\"#f8484b3b\")\n",
    "        plt.xlim(extent[0:2])\n",
    "        plt.ylim(extent[2:4])\n",
    "            \n",
    "    if include_vessel:\n",
    "        draw_vessel(color=color_dict[plot_type])\n",
    "\n",
    "    if save_fig==True:\n",
    "        plt.savefig(FIG_FOLDER / f\"mc_distribution_{plot_type}_{step}_{rpm}.png\")"
   ]
  },
  {
   "cell_type": "code",
   "execution_count": null,
   "metadata": {},
   "outputs": [
    {
     "name": "stdout",
     "output_type": "stream",
     "text": [
      "/home/jaroknor/NLeSC/InSilicoMeat/Biocellion/Biocellion-3.1/biocellion-3.1/biocellion-user/ABM-microcarriers/output_first_manuscript/output_parameter5_trial7/agent_000000.pvtp does not exist\n",
      "/home/jaroknor/NLeSC/InSilicoMeat/Biocellion/Biocellion-3.1/biocellion-3.1/biocellion-user/ABM-microcarriers/output_first_manuscript/output_parameter5_trial8/agent_000000.pvtp does not exist\n",
      "/home/jaroknor/NLeSC/InSilicoMeat/Biocellion/Biocellion-3.1/biocellion-3.1/biocellion-user/ABM-microcarriers/output_first_manuscript/output_parameter5_trial9/agent_000000.pvtp does not exist\n",
      "/home/jaroknor/NLeSC/InSilicoMeat/Biocellion/Biocellion-3.1/biocellion-3.1/biocellion-user/ABM-microcarriers/output_first_manuscript/output_parameter5_trial10/agent_000000.pvtp does not exist\n",
      "/home/jaroknor/NLeSC/InSilicoMeat/Biocellion/Biocellion-3.1/biocellion-3.1/biocellion-user/ABM-microcarriers/output_first_manuscript/output_parameter7_trial7/agent_000000.pvtp does not exist\n",
      "/home/jaroknor/NLeSC/InSilicoMeat/Biocellion/Biocellion-3.1/biocellion-3.1/biocellion-user/ABM-microcarriers/output_first_manuscript/output_parameter7_trial8/agent_000000.pvtp does not exist\n",
      "/home/jaroknor/NLeSC/InSilicoMeat/Biocellion/Biocellion-3.1/biocellion-3.1/biocellion-user/ABM-microcarriers/output_first_manuscript/output_parameter7_trial9/agent_000000.pvtp does not exist\n",
      "/home/jaroknor/NLeSC/InSilicoMeat/Biocellion/Biocellion-3.1/biocellion-3.1/biocellion-user/ABM-microcarriers/output_first_manuscript/output_parameter7_trial10/agent_000000.pvtp does not exist\n",
      "/home/jaroknor/NLeSC/InSilicoMeat/Biocellion/Biocellion-3.1/biocellion-3.1/biocellion-user/ABM-microcarriers/output_first_manuscript/output_parameter9_trial7/agent_000000.pvtp does not exist\n",
      "/home/jaroknor/NLeSC/InSilicoMeat/Biocellion/Biocellion-3.1/biocellion-3.1/biocellion-user/ABM-microcarriers/output_first_manuscript/output_parameter9_trial8/agent_000000.pvtp does not exist\n",
      "/home/jaroknor/NLeSC/InSilicoMeat/Biocellion/Biocellion-3.1/biocellion-3.1/biocellion-user/ABM-microcarriers/output_first_manuscript/output_parameter9_trial9/agent_000000.pvtp does not exist\n",
      "/home/jaroknor/NLeSC/InSilicoMeat/Biocellion/Biocellion-3.1/biocellion-3.1/biocellion-user/ABM-microcarriers/output_first_manuscript/output_parameter9_trial10/agent_000000.pvtp does not exist\n",
      "/home/jaroknor/NLeSC/InSilicoMeat/Biocellion/Biocellion-3.1/biocellion-3.1/biocellion-user/ABM-microcarriers/output_first_manuscript/output_parameter11_trial7/agent_000000.pvtp does not exist\n",
      "/home/jaroknor/NLeSC/InSilicoMeat/Biocellion/Biocellion-3.1/biocellion-3.1/biocellion-user/ABM-microcarriers/output_first_manuscript/output_parameter11_trial8/agent_000000.pvtp does not exist\n",
      "/home/jaroknor/NLeSC/InSilicoMeat/Biocellion/Biocellion-3.1/biocellion-3.1/biocellion-user/ABM-microcarriers/output_first_manuscript/output_parameter11_trial9/agent_000000.pvtp does not exist\n",
      "/home/jaroknor/NLeSC/InSilicoMeat/Biocellion/Biocellion-3.1/biocellion-3.1/biocellion-user/ABM-microcarriers/output_first_manuscript/output_parameter11_trial10/agent_000000.pvtp does not exist\n",
      "/home/jaroknor/NLeSC/InSilicoMeat/Biocellion/Biocellion-3.1/biocellion-3.1/biocellion-user/ABM-microcarriers/output_first_manuscript/output_parameter13_trial7/agent_000000.pvtp does not exist\n",
      "/home/jaroknor/NLeSC/InSilicoMeat/Biocellion/Biocellion-3.1/biocellion-3.1/biocellion-user/ABM-microcarriers/output_first_manuscript/output_parameter13_trial8/agent_000000.pvtp does not exist\n",
      "/home/jaroknor/NLeSC/InSilicoMeat/Biocellion/Biocellion-3.1/biocellion-3.1/biocellion-user/ABM-microcarriers/output_first_manuscript/output_parameter13_trial9/agent_000000.pvtp does not exist\n",
      "/home/jaroknor/NLeSC/InSilicoMeat/Biocellion/Biocellion-3.1/biocellion-3.1/biocellion-user/ABM-microcarriers/output_first_manuscript/output_parameter13_trial10/agent_000000.pvtp does not exist\n",
      "/home/jaroknor/NLeSC/InSilicoMeat/Biocellion/Biocellion-3.1/biocellion-3.1/biocellion-user/ABM-microcarriers/output_first_manuscript/output_parameter15_trial7/agent_000000.pvtp does not exist\n",
      "/home/jaroknor/NLeSC/InSilicoMeat/Biocellion/Biocellion-3.1/biocellion-3.1/biocellion-user/ABM-microcarriers/output_first_manuscript/output_parameter15_trial8/agent_000000.pvtp does not exist\n",
      "/home/jaroknor/NLeSC/InSilicoMeat/Biocellion/Biocellion-3.1/biocellion-3.1/biocellion-user/ABM-microcarriers/output_first_manuscript/output_parameter15_trial9/agent_000000.pvtp does not exist\n",
      "/home/jaroknor/NLeSC/InSilicoMeat/Biocellion/Biocellion-3.1/biocellion-3.1/biocellion-user/ABM-microcarriers/output_first_manuscript/output_parameter15_trial10/agent_000000.pvtp does not exist\n",
      "/home/jaroknor/NLeSC/InSilicoMeat/Biocellion/Biocellion-3.1/biocellion-3.1/biocellion-user/ABM-microcarriers/output_first_manuscript/output_parameter17_trial7/agent_000000.pvtp does not exist\n",
      "/home/jaroknor/NLeSC/InSilicoMeat/Biocellion/Biocellion-3.1/biocellion-3.1/biocellion-user/ABM-microcarriers/output_first_manuscript/output_parameter17_trial8/agent_000000.pvtp does not exist\n",
      "/home/jaroknor/NLeSC/InSilicoMeat/Biocellion/Biocellion-3.1/biocellion-3.1/biocellion-user/ABM-microcarriers/output_first_manuscript/output_parameter17_trial9/agent_000000.pvtp does not exist\n",
      "/home/jaroknor/NLeSC/InSilicoMeat/Biocellion/Biocellion-3.1/biocellion-3.1/biocellion-user/ABM-microcarriers/output_first_manuscript/output_parameter17_trial10/agent_000000.pvtp does not exist\n"
     ]
    }
   ],
   "source": [
    "par_ids = range(5, 34, 2)\n",
    "trials = range(1, 11)\n",
    "\n",
    "agent_data = load_all_simulations(ABM_CFD_PVTP_FOLDER, par_ids, trials)"
   ]
  },
  {
   "cell_type": "code",
   "execution_count": null,
   "metadata": {},
   "outputs": [],
   "source": [
    "step=None\n",
    "plot_mc_distribution(step, rpm, agent_data, n_steps = None, plot_type=\"scatter\")"
   ]
  },
  {
   "cell_type": "code",
   "execution_count": null,
   "metadata": {},
   "outputs": [],
   "source": [
    "rpm = 60\n",
    "mc_data = load_particle_tracing(ABM_CFD_MODEL_FOLDER, rpm, 1800000)"
   ]
  },
  {
   "cell_type": "code",
   "execution_count": null,
   "metadata": {},
   "outputs": [],
   "source": [
    "step=1000000\n",
    "n_steps = None\n",
    "plot_mc_distribution(step, rpm, mc_data, n_steps=n_steps, plot_type=\"scatter\", save_fig=False)\n",
    "plot_mc_distribution(step, rpm, mc_data, n_bins = 100, n_steps = n_steps, plot_type=\"heatmap\")"
   ]
  },
  {
   "cell_type": "code",
   "execution_count": 132,
   "metadata": {},
   "outputs": [
    {
     "data": {
      "text/plain": [
       "<AxesSubplot:xlabel='r', ylabel='z'>"
      ]
     },
     "execution_count": 132,
     "metadata": {},
     "output_type": "execute_result"
    },
    {
     "data": {
      "image/png": "[encoded data removed]",
      "text/plain": [
       "<Figure size 432x288 with 1 Axes>"
      ]
     },
     "metadata": {
      "needs_background": "light"
     },
     "output_type": "display_data"
    }
   ],
   "source": [
    "agent_data3 = load_particle_tracing(ABM_CFD_MODEL_FOLDER, 2000)\n",
    "agent_data3[\"r\"] = np.sqrt(np.power((agent_data3[\"x\"] - 40000) ,2) + np.power((agent_data3[\"y\"] - 40000) ,2))\n",
    "agent_data3.plot.scatter(\"r\",\"z\", s=0.1, c=\"black\")\n",
    "# aget_data[\"r\"].plot.hist(bins=30)"
   ]
  },
  {
   "cell_type": "code",
   "execution_count": 50,
   "metadata": {},
   "outputs": [
    {
     "name": "stdout",
     "output_type": "stream",
     "text": [
      "                  MECH_STRESS_TRESHOLD_DEATH  STRESS_TRESHOLD  RPM  \\\n",
      "Parameter ID (Z)                                                     \n",
      "5                               1.000000e-05     1.000000e-07   60   \n",
      "6                               1.000000e-05     1.000000e-07  220   \n",
      "7                               1.000000e-05     1.000000e-08   60   \n",
      "8                               1.000000e-05     1.000000e-08  220   \n",
      "9                               1.000000e-06     1.000000e-06   60   \n",
      "10                              1.000000e-06     1.000000e-06  220   \n",
      "11                              1.000000e-06     1.000000e-07   60   \n",
      "12                              1.000000e-06     1.000000e-07  220   \n",
      "13                              1.000000e-06     1.000000e-08   60   \n",
      "14                              1.000000e-06     1.000000e-08  220   \n",
      "15                              1.000000e-07     1.000000e-07   60   \n",
      "16                              1.000000e-07     1.000000e-07  220   \n",
      "17                              1.000000e-07     1.000000e-08   60   \n",
      "18                              1.000000e-07     1.000000e-08  220   \n",
      "19                              1.000000e-05     1.000000e-07   60   \n",
      "20                              1.000000e-05     1.000000e-07  220   \n",
      "21                              1.000000e-05     1.000000e-08   60   \n",
      "22                              1.000000e-05     1.000000e-08  220   \n",
      "23                              1.000000e-06     1.000000e-06   60   \n",
      "24                              1.000000e-06     1.000000e-06  220   \n",
      "25                              1.000000e-06     1.000000e-07   60   \n",
      "26                              1.000000e-06     1.000000e-07  220   \n",
      "27                              1.000000e-06     1.000000e-08   60   \n",
      "28                              1.000000e-06     1.000000e-08  220   \n",
      "29                              1.000000e-07     1.000000e-07   60   \n",
      "30                              1.000000e-07     1.000000e-07  220   \n",
      "31                              1.000000e-07     1.000000e-08   60   \n",
      "32                              1.000000e-07     1.000000e-08  220   \n",
      "\n",
      "                  STRESS_HILL_EXPONEN  \n",
      "Parameter ID (Z)                       \n",
      "5                                   5  \n",
      "6                                   5  \n",
      "7                                   5  \n",
      "8                                   5  \n",
      "9                                   5  \n",
      "10                                  5  \n",
      "11                                  5  \n",
      "12                                  5  \n",
      "13                                  5  \n",
      "14                                  5  \n",
      "15                                  5  \n",
      "16                                  5  \n",
      "17                                  5  \n",
      "18                                  5  \n",
      "19                                  1  \n",
      "20                                  1  \n",
      "21                                  1  \n",
      "22                                  1  \n",
      "23                                  1  \n",
      "24                                  1  \n",
      "25                                  1  \n",
      "26                                  1  \n",
      "27                                  1  \n",
      "28                                  1  \n",
      "29                                  1  \n",
      "30                                  1  \n",
      "31                                  1  \n",
      "32                                  1  \n"
     ]
    }
   ],
   "source": [
    "par_df = read_parameter_file(ABM_CFD_PAR_FILENAME)\n",
    "print(par_df)"
   ]
  },
  {
   "cell_type": "code",
   "execution_count": null,
   "metadata": {},
   "outputs": [],
   "source": [
    "plot_cells(ABM_CFD_MODEL_FOLDER)"
   ]
  },
  {
   "cell_type": "code",
   "execution_count": null,
   "metadata": {},
   "outputs": [],
   "source": [
    "plot_cell_distribution(ABM_CFD_MODEL_FOLDER, 60, par_ids=[5,6,7], trials=[1,2])"
   ]
  }
 ],
 "metadata": {
  "kernelspec": {
   "display_name": "Python 2",
   "language": "python",
   "name": "python2"
  },
  "language_info": {
   "codemirror_mode": {
    "name": "ipython",
    "version": 3
   },
   "file_extension": ".py",
   "mimetype": "text/x-python",
   "name": "python",
   "nbconvert_exporter": "python",
   "pygments_lexer": "ipython3",
   "version": "3.9.4"
  }
 },
 "nbformat": 4,
 "nbformat_minor": 4
}
