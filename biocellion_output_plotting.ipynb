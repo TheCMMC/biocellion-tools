{
 "cells": [
  {
   "cell_type": "code",
   "execution_count": 1,
   "metadata": {},
   "outputs": [],
   "source": [
    "import matplotlib.pyplot as plt\n",
    "import paraview.simple as pvs\n",
    "from pathlib import Path\n"
   ]
  },
  {
   "cell_type": "markdown",
   "metadata": {},
   "source": [
    "# Biocellion Output Plotting\n",
    "This notebook defines functions to read and plot the biocellion output data for the Biocellion ABM models by the CMMC that can be found in github.com/TheCMMC. For more information on the CMMC, visit www.thecmmc.org.  \n",
    "\n",
    "To use these plotting functions the biocellion output summary should be in one directory with the following naming pattern:\n",
    "`output_parameter{par_id}_trial{trial}.txt`\n",
    "\n",
    "If the scripts and instructions in https://github.com/TheCMMC/biocellion-tools have been used to create the output, this notebook should be able to run with the resulting data."
   ]
  },
  {
   "cell_type": "markdown",
   "metadata": {
    "tags": []
   },
   "source": [
    "## User settings"
   ]
  },
  {
   "cell_type": "code",
   "execution_count": 2,
   "metadata": {},
   "outputs": [],
   "source": [
    "# Set this data folder to the place where you cloned the repository https://github.com/TheCMMC/biocellion-data\n",
    "DATA_FOLDER = Path(\"/home/jaroknor/NLeSC/InSilicoMeat/Biocellion/Biocellion-3.1/biocellion-3.1/biocellion-user/biocellion-data\")\n",
    "MODEL_OUTPUT_FOLDER = Path(\"/home/jaroknor/NLeSC/InSilicoMeat/Biocellion/Biocellion-3.1/biocellion-3.1/biocellion-user/ABM-microcarriers/output\")\n",
    "FIG_FOLDER = Path(\"\")"
   ]
  },
  {
   "cell_type": "markdown",
   "metadata": {},
   "source": [
    "## Plotting functions"
   ]
  },
  {
   "cell_type": "code",
   "execution_count": 3,
   "metadata": {},
   "outputs": [],
   "source": [
    "ABM_ONLY_FOLDER = DATA_FOLDER / \"PLOSone_ABM-only-microcarrier\"\n",
    "ABM_CFD_FOLDER = DATA_FOLDER / \"PLOSone_ABM-CFD-microcarrier\""
   ]
  },
  {
   "cell_type": "code",
   "execution_count": 4,
   "metadata": {
    "tags": []
   },
   "outputs": [],
   "source": [
    "def read_summary_file(filename):\n",
    "    live, attached, dead, removed = ([],[],[],[])\n",
    "\n",
    "    with open(filename, 'r' ) as f :\n",
    "        for line in f:\n",
    "            if 'Live Cells' in line :\n",
    "              live.append( int( line.strip().split(':')[-1] ) )\n",
    "            if 'Live Attached Cells' in line :\n",
    "              attached.append( int( line.strip().split(':')[-1] ) )\n",
    "            elif 'Death Cells' in line:\n",
    "              dead.append( int( line.strip().split(':')[-1] ))\n",
    "            elif 'Removed Cells' in line :\n",
    "              removed.append( int( line.strip().split(':')[-1] ))\n",
    "    \n",
    "    # if the lengths of these list are different print error\n",
    "    assert len(live)==len(attached)==len(dead)==len(removed), \"Cell count lists are of different lenghts\"\n",
    "\n",
    "    return {\"live\":live, \"attached\":attached, \"dead\":dead, \"removed\":removed}\n",
    "\n",
    "def plot_single_summary(par_id, trial, data_folder):\n",
    "    filename = data_folder / f\"output_parameter{par_id}_trial{trial}.txt\"\n",
    "    cell_counts = read_summary_file(filename)\n",
    "\n",
    "    Npoints = len( cell_counts[\"live\"] )\n",
    "    tsteps = range( Npoints)\n",
    "\n",
    "    fig, ax = plt.subplots()\n",
    "    ax.plot(tsteps, cell_counts[\"live\"], '-b', label='Live')\n",
    "    ax.plot(tsteps, cell_counts[\"attached\"], '-g', label='Attached')\n",
    "    ax.plot(tsteps, cell_counts[\"dead\"], '-r', label='Apoptotic')\n",
    "    ax.plot(tsteps, cell_counts[\"removed\"], '-k', label='Dead')\n",
    "    leg = ax.legend();\n",
    "    plt.ylabel('Cell count (one microcarrier)')\n",
    "    plt.xlabel('Time steps')\n",
    "    plt.savefig(\"cell_counts_parameter{par_id}_trial{trial}.png\", dpi=150)\n",
    "    \n",
    "def plot_multi_summary(par_ids, trials, states, data_folder):\n",
    "    for par_id in par_ids:\n",
    "        for trial in trials:\n",
    "            filename =  f\"log_parameter{par_id}_trial{trial}.txt\"\n",
    "\n",
    "        "
   ]
  },
  {
   "cell_type": "code",
   "execution_count": 42,
   "metadata": {},
   "outputs": [
    {
     "data": {
      "image/png": "[encoded data removed]",
      "text/plain": [
       "<Figure size 432x288 with 1 Axes>"
      ]
     },
     "metadata": {
      "needs_background": "light"
     },
     "output_type": "display_data"
    }
   ],
   "source": [
    "plot_single_summary(26, 8, ABM_CFD_FOLDER)\n",
    "# plot_multi_summary()"
   ]
  },
  {
   "cell_type": "code",
   "execution_count": null,
   "metadata": {},
   "outputs": [],
   "source": [
    "def read_pvtp_files(pvtp_folder, nsteps, start=0, interval=1):\n",
    "    pvs._DisableFirstRenderCameraReset()\n",
    "    for step in range(start, nsteps, interval):\n",
    "        file_name = pvtp_folder / f'agent_{step}.pvtp'\n",
    "        print(file_name)\n",
    "        file = paraview.simple.XMLPartitionedPolydataReader( FileName= file_name)\n",
    "        \n",
    "    return \n",
    "        \n",
    "def plot_single_cells(par_id, trial, pvtp_folder)\n",
    "        \n",
    "    \n"
   ]
  },
  {
   "cell_type": "code",
   "execution_count": null,
   "metadata": {},
   "outputs": [],
   "source": [
    "plot_single_cells(26, 8, )"
   ]
  }
 ],
 "metadata": {
  "kernelspec": {
   "display_name": "Python 2",
   "language": "python",
   "name": "python2"
  },
  "language_info": {
   "codemirror_mode": {
    "name": "ipython",
    "version": 3
   },
   "file_extension": ".py",
   "mimetype": "text/x-python",
   "name": "python",
   "nbconvert_exporter": "python",
   "pygments_lexer": "ipython3",
   "version": "3.9.4"
  }
 },
 "nbformat": 4,
 "nbformat_minor": 4
}
