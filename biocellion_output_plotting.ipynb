{
 "cells": [
  {
   "cell_type": "code",
   "execution_count": 6,
   "metadata": {},
   "outputs": [],
   "source": [
    "import matplotlib.pyplot as plt\n",
    "from pathlib import Path\n"
   ]
  },
  {
   "cell_type": "markdown",
   "metadata": {},
   "source": [
    "# Biocellion Output Plotting\n",
    "This notebook defines functions to read and plot the biocellion output data for the Biocellion ABM models by the CMMC that can be found in github.com/TheCMMC. For more information on the CMMC, visit www.thecmmc.org.  \n",
    "\n",
    "To use these plotting functions the biocellion output summary should be in one directory with the following naming pattern:\n",
    "`output_parameter{par_id}_trial{trial}.txt`\n",
    "\n",
    "If the scripts and instructions in https://github.com/TheCMMC/biocellion-tools have been used to create the output, this notebook should be able to run with the resulting data."
   ]
  },
  {
   "cell_type": "markdown",
   "metadata": {
    "tags": []
   },
   "source": [
    "## User settings"
   ]
  },
  {
   "cell_type": "code",
   "execution_count": 20,
   "metadata": {},
   "outputs": [],
   "source": [
    "# Set this data folder to the place where you cloned the repository https://github.com/TheCMMC/biocellion-data\n",
    "DATA_FOLDER = Path(\"/home/jaroknor/NLeSC/InSilicoMeat/Biocellion/Biocellion-3.1/biocellion-3.1/biocellion-user/biocellion-data\")"
   ]
  },
  {
   "cell_type": "markdown",
   "metadata": {},
   "source": [
    "## Plotting functions"
   ]
  },
  {
   "cell_type": "code",
   "execution_count": 21,
   "metadata": {},
   "outputs": [],
   "source": [
    "ABM_ONLY_FOLDER = DATA_FOLDER / \"PLOSone_ABM-only-microcarrier\"\n",
    "ABM_CFD_FOLDER = DATA_FOLDER / \"PLOSone_ABM-CFD-microcarrier\""
   ]
  },
  {
   "cell_type": "code",
   "execution_count": 37,
   "metadata": {
    "tags": []
   },
   "outputs": [],
   "source": [
    "def read_summary_file(filename):\n",
    "    live, attached, dead, removed = ([],[],[],[])\n",
    "\n",
    "    with open(filename, 'r' ) as f :\n",
    "        for line in f:\n",
    "            if 'Live Cells' in line :\n",
    "              live.append( int( line.strip().split(':')[-1] ) )\n",
    "            if 'Live Attached Cells' in line :\n",
    "              attached.append( int( line.strip().split(':')[-1] ) )\n",
    "            elif 'Death Cells' in line:\n",
    "              dead.append( int( line.strip().split(':')[-1] ))\n",
    "            elif 'Removed Cells' in line :\n",
    "              removed.append( int( line.strip().split(':')[-1] ))\n",
    "    \n",
    "    # if the lengths of these list are different print error\n",
    "    assert len(live)==len(attached)==len(dead)==len(removed), \"Cell count lists are of different lenghts\"\n",
    "\n",
    "    return {\"live\":live, \"attached\":attached, \"dead\":dead, \"removed\":removed}\n",
    "\n",
    "def plot_single_summary(par_id, trial, data_folder):\n",
    "    filename = data_folder / f\"output_parameter{par_id}_trial{trial}.txt\"\n",
    "    cell_counts = read_summary_file(filename)\n",
    "\n",
    "    Npoints = len( cell_counts[\"live\"] )\n",
    "    tsteps = range( Npoints)\n",
    "\n",
    "    fig, ax = plt.subplots()\n",
    "    ax.plot(tsteps, cell_counts[\"live\"], '-b', label='Live')\n",
    "    ax.plot(tsteps, cell_counts[\"attached\"], '-g', label='Attached')\n",
    "    ax.plot(tsteps, cell_counts[\"dead\"], '-r', label='Apoptotic')\n",
    "    ax.plot(tsteps, cell_counts[\"removed\"], '-k', label='Dead')\n",
    "    leg = ax.legend();\n",
    "    plt.ylabel('Cell count (one microcarrier)')\n",
    "    plt.xlabel('Time steps')\n",
    "    plt.savefig(\"ABMOnly_cell_counts.png\", dpi=150)\n",
    "    \n",
    "def plot_multi_summary(par_ids, trials, states, data_folder):\n",
    "    for par_id in par_ids:\n",
    "        for trial in trials:\n",
    "            filename =  f\"log_parameter{par_id}_trial{trial}.txt\"\n",
    "\n",
    "        "
   ]
  },
  {
   "cell_type": "code",
   "execution_count": 38,
   "metadata": {},
   "outputs": [
    {
     "data": {
      "image/png": "[encoded data removed]",
      "text/plain": [
       "<Figure size 432x288 with 1 Axes>"
      ]
     },
     "metadata": {
      "needs_background": "light"
     },
     "output_type": "display_data"
    }
   ],
   "source": [
    "plot_single_summary(31, 8, ABM_CFD_FOLDER)\n",
    "# plot_multi_summary()"
   ]
  },
  {
   "cell_type": "code",
   "execution_count": null,
   "metadata": {},
   "outputs": [],
   "source": []
  }
 ],
 "metadata": {
  "kernelspec": {
   "display_name": "Python 3",
   "language": "python",
   "name": "python3"
  },
  "language_info": {
   "codemirror_mode": {
    "name": "ipython",
    "version": 3
   },
   "file_extension": ".py",
   "mimetype": "text/x-python",
   "name": "python",
   "nbconvert_exporter": "python",
   "pygments_lexer": "ipython3",
   "version": "3.9.2"
  }
 },
 "nbformat": 4,
 "nbformat_minor": 4
}
