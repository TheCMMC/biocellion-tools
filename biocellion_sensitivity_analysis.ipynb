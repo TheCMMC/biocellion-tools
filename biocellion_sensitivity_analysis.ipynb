{
 "cells": [
  {
   "cell_type": "code",
   "execution_count": 16,
   "metadata": {},
   "outputs": [],
   "source": [
    "import matplotlib.pyplot as plt\n",
    "import paraview.simple as pvs\n",
    "import pandas as pd\n",
    "import numpy as np\n",
    "import math\n",
    "from pathlib import Path\n",
    "from SALib.analyze import morris\n",
    "from SALib.sample.morris import sample\n",
    "\n",
    "from SALib.plotting.morris import horizontal_bar_plot, covariance_plot, \\\n",
    "    sample_histograms"
   ]
  },
  {
   "cell_type": "markdown",
   "metadata": {},
   "source": [
    "# Biocellion Output Plotting\n",
    "This notebook defines functions to read and plot the biocellion output data for the Biocellion ABM models by the CMMC that can be found in github.com/TheCMMC. For more information on the CMMC, visit www.thecmmc.org.  \n",
    "\n",
    "To use these plotting functions the biocellion output summary should be in one directory with the following naming pattern:\n",
    "`output_parameter{par_id}_trial{trial}.txt`\n",
    "\n",
    "If the scripts and instructions in https://github.com/TheCMMC/biocellion-tools have been used to create the output, this notebook should be able to run with the resulting data."
   ]
  },
  {
   "cell_type": "markdown",
   "metadata": {
    "tags": []
   },
   "source": [
    "## User settings"
   ]
  },
  {
   "cell_type": "code",
   "execution_count": 44,
   "metadata": {},
   "outputs": [],
   "source": [
    "# Set this data folder to the place where you cloned the repository https://github.com/TheCMMC/biocellion-data\n",
    "DATA_FOLDER = Path(\"/home/jaroknor/NLeSC/InSilicoMeat/Biocellion/biocellion-data\")\n",
    "MODEL_FOLDER = Path(\"/home/jaroknor/NLeSC/InSilicoMeat/Biocellion/Biocellion-3.1/biocellion-3.1/biocellion-user\")\n",
    "TOOLS_FOLDER = Path(\"/home/jaroknor/NLeSC/InSilicoMeat/Biocellion/biocellion-tools\")\n",
    "FIG_FOLDER = Path(\"./figures\")"
   ]
  },
  {
   "cell_type": "code",
   "execution_count": 45,
   "metadata": {},
   "outputs": [],
   "source": [
    "ABM_ONLY_DATA_FOLDER = DATA_FOLDER / \"PLOSone_ABM-only-microcarrier\"\n",
    "ABM_ONLY_MODEL_FOLDER = MODEL_FOLDER / \"ABM-only-microcarriers\"\n",
    "\n",
    "ABM_CFD_DATA_FOLDER = DATA_FOLDER / \"PLOSone_ABM-CFD-microcarrier\"\n",
    "ABM_CFD_MODEL_FOLDER = MODEL_FOLDER / \"ABM-microcarriers\"\n",
    "ABM_CFD_PARAMETER_FILE = TOOLS_FOLDER / \"SensitivityAnalysis_ABM-CFD_ParameterInfo.csv\""
   ]
  },
  {
   "cell_type": "code",
   "execution_count": 46,
   "metadata": {},
   "outputs": [],
   "source": [
    "color_dict={'live': '#1f77b4', 'attached': '#2ca02c', 'dead': '#ff7f0e', 'removed': '#d62728'}"
   ]
  },
  {
   "cell_type": "markdown",
   "metadata": {},
   "source": [
    "## Generate parameters"
   ]
  },
  {
   "cell_type": "code",
   "execution_count": 48,
   "metadata": {},
   "outputs": [
    {
     "data": {
      "text/html": [
       "<div>\n",
       "<style scoped>\n",
       "    .dataframe tbody tr th:only-of-type {\n",
       "        vertical-align: middle;\n",
       "    }\n",
       "\n",
       "    .dataframe tbody tr th {\n",
       "        vertical-align: top;\n",
       "    }\n",
       "\n",
       "    .dataframe thead th {\n",
       "        text-align: right;\n",
       "    }\n",
       "</style>\n",
       "<table border=\"1\" class=\"dataframe\">\n",
       "  <thead>\n",
       "    <tr style=\"text-align: right;\">\n",
       "      <th></th>\n",
       "      <th>name</th>\n",
       "      <th>range_min</th>\n",
       "      <th>range_max</th>\n",
       "      <th>range_type</th>\n",
       "      <th>file</th>\n",
       "    </tr>\n",
       "  </thead>\n",
       "  <tbody>\n",
       "    <tr>\n",
       "      <th>0</th>\n",
       "      <td>HILLS_EXPONENT</td>\n",
       "      <td>1.000000e+00</td>\n",
       "      <td>5.000000</td>\n",
       "      <td>linear</td>\n",
       "      <td>model_define.h</td>\n",
       "    </tr>\n",
       "    <tr>\n",
       "      <th>1</th>\n",
       "      <td>MECH_STRESS_TRESHOLD_DEATH</td>\n",
       "      <td>1.000000e-07</td>\n",
       "      <td>0.000010</td>\n",
       "      <td>exponential</td>\n",
       "      <td>model_define.h</td>\n",
       "    </tr>\n",
       "    <tr>\n",
       "      <th>2</th>\n",
       "      <td>STRESS_TRESHOLD</td>\n",
       "      <td>1.000000e-08</td>\n",
       "      <td>0.000001</td>\n",
       "      <td>exponential</td>\n",
       "      <td>model_define.h</td>\n",
       "    </tr>\n",
       "    <tr>\n",
       "      <th>3</th>\n",
       "      <td>RPM</td>\n",
       "      <td>6.000000e+01</td>\n",
       "      <td>220.000000</td>\n",
       "      <td>dichotomous</td>\n",
       "      <td>model_routine_config.cpp</td>\n",
       "    </tr>\n",
       "  </tbody>\n",
       "</table>\n",
       "</div>"
      ],
      "text/plain": [
       "                         name     range_min   range_max   range_type  \\\n",
       "0              HILLS_EXPONENT  1.000000e+00    5.000000       linear   \n",
       "1  MECH_STRESS_TRESHOLD_DEATH  1.000000e-07    0.000010  exponential   \n",
       "2             STRESS_TRESHOLD  1.000000e-08    0.000001  exponential   \n",
       "3                         RPM  6.000000e+01  220.000000  dichotomous   \n",
       "\n",
       "                       file  \n",
       "0            model_define.h  \n",
       "1            model_define.h  \n",
       "2            model_define.h  \n",
       "3  model_routine_config.cpp  "
      ]
     },
     "execution_count": 48,
     "metadata": {},
     "output_type": "execute_result"
    }
   ],
   "source": [
    "param_info = pd.read_csv(ABM_CFD_PARAMETER_FILE)\n",
    "param_info"
   ]
  },
  {
   "cell_type": "code",
   "execution_count": 50,
   "metadata": {},
   "outputs": [],
   "source": [
    "def sample_morris_parameters(parameters, num_levels=4):\n",
    "    exp10_select = parameters.loc[parameters.range_type==\"exponential\", [\"range_min\", \"range_max\"]]\n",
    "    parameters.update(np.log10(exp10_select))\n",
    "#     print(parameters)\n",
    "\n",
    "    problem = {\n",
    "      'num_vars': len(parameters),\n",
    "      'names': parameters[\"name\"].values.tolist(),\n",
    "      'bounds': parameters[[\"range_min\",\"range_max\"]].values.tolist()\n",
    "    }\n",
    "\n",
    "    param_values = sample(problem, 10, num_levels=4)\n",
    "#     print(param_values)\n",
    "    for param_vec in param_values:\n",
    "        for i in parameters.loc[parameters.range_type==\"exponential\"].index:\n",
    "            param_vec[i] = 10**param_vec[i]\n",
    "    return param_values, problem"
   ]
  },
  {
   "cell_type": "code",
   "execution_count": 55,
   "metadata": {},
   "outputs": [
    {
     "name": "stdout",
     "output_type": "stream",
     "text": [
      "(50, 4)\n",
      "This analysis needs 4.2 days\n"
     ]
    }
   ],
   "source": [
    "parameters, problem = sample_morris_parameters(param_info)\n",
    "\n",
    "print(np.shape(parameters))\n",
    "print(f\"This analysis needs {np.round((len(parameters)*2)/24,1)} days\")"
   ]
  },
  {
   "cell_type": "code",
   "execution_count": 127,
   "metadata": {},
   "outputs": [],
   "source": [
    "def scatterplot(x, y, df, problem, param_info):\n",
    "    if type(x) == int:\n",
    "        x = problem[\"names\"][x]\n",
    "    if type(y) == int:\n",
    "        y = problem[\"names\"][y]\n",
    "    assert x in problem[\"names\"]\n",
    "    assert y in problem[\"names\"]\n",
    "    logx, logy, loglog = False, False, False\n",
    "    logx = (param_info.loc[param_info[\"name\"]==x, \"range_type\"] == \"exponential\").values[0]\n",
    "    logy = (param_info.loc[param_info[\"name\"]==y, \"range_type\"] == \"exponential\").values[0]\n",
    "    if (logx and logy):\n",
    "        loglog = True\n",
    "    df.plot(problem[\"names\"][1], problem[\"names\"][2], kind=\"scatter\", logx=logx, logy=logy, loglog=loglog)"
   ]
  },
  {
   "cell_type": "code",
   "execution_count": 129,
   "metadata": {
    "tags": []
   },
   "outputs": [
    {
     "data": {
      "image/png": "[encoded data removed]",
      "text/plain": [
       "<Figure size 432x288 with 1 Axes>"
      ]
     },
     "metadata": {
      "needs_background": "light"
     },
     "output_type": "display_data"
    }
   ],
   "source": [
    "df = pd.DataFrame(parameters, columns=problem[\"names\"])\n",
    "\n",
    "scatterplot(1, 2, df, problem, param_info)"
   ]
  },
  {
   "cell_type": "markdown",
   "metadata": {},
   "source": [
    "## Run simulations"
   ]
  },
  {
   "cell_type": "code",
   "execution_count": 38,
   "metadata": {},
   "outputs": [],
   "source": [
    "def run_biocellion(param_vector, problem, param_info, model_folder):\n",
    "    for i, parameter in enumerate(param_vector):\n",
    "        print(i, parameter)\n",
    "        parameter_loc = model_folder / param_info[\"file\"][i]\n",
    "        enter_parameter(parameter, parameter_loc, model_folder)\n",
    "    \n",
    "def enter_parameter(parameter, parameter_loc, model_folder):\n",
    "    print(parameter_loc)\n",
    "    "
   ]
  },
  {
   "cell_type": "code",
   "execution_count": 39,
   "metadata": {},
   "outputs": [
    {
     "name": "stdout",
     "output_type": "stream",
     "text": [
      "0 1.0\n",
      "/home/jaroknor/NLeSC/InSilicoMeat/Biocellion/Biocellion-3.1/biocellion-3.1/biocellion-user/ABM-microcarriers/model_define.h\n",
      "1 1e-07\n",
      "/home/jaroknor/NLeSC/InSilicoMeat/Biocellion/Biocellion-3.1/biocellion-3.1/biocellion-user/ABM-microcarriers/model_define.h\n",
      "2 1e-06\n",
      "/home/jaroknor/NLeSC/InSilicoMeat/Biocellion/Biocellion-3.1/biocellion-3.1/biocellion-user/ABM-microcarriers/model_define.h\n",
      "3 220.0\n",
      "/home/jaroknor/NLeSC/InSilicoMeat/Biocellion/Biocellion-3.1/biocellion-3.1/biocellion-user/ABM-microcarriers/model_routine_config.cpp\n"
     ]
    }
   ],
   "source": [
    "# for param in param_values:\n",
    "run_biocellion(parameters[0], problem, param_info, ABM_CFD_MODEL_FOLDER)"
   ]
  },
  {
   "cell_type": "code",
   "execution_count": null,
   "metadata": {},
   "outputs": [],
   "source": []
  }
 ],
 "metadata": {
  "kernelspec": {
   "display_name": "Python 2",
   "language": "python",
   "name": "python2"
  },
  "language_info": {
   "codemirror_mode": {
    "name": "ipython",
    "version": 3
   },
   "file_extension": ".py",
   "mimetype": "text/x-python",
   "name": "python",
   "nbconvert_exporter": "python",
   "pygments_lexer": "ipython3",
   "version": "3.9.4"
  }
 },
 "nbformat": 4,
 "nbformat_minor": 4
}
