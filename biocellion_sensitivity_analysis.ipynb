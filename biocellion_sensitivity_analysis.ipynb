{
 "cells": [
  {
   "cell_type": "code",
   "execution_count": 13,
   "metadata": {},
   "outputs": [],
   "source": [
    "import matplotlib.pyplot as plt\n",
    "import paraview.simple as pvs\n",
    "import pandas as pd\n",
    "import numpy as np\n",
    "import math\n",
    "from pathlib import Path\n",
    "import SALib\n"
   ]
  },
  {
   "cell_type": "markdown",
   "metadata": {},
   "source": [
    "# Biocellion Output Plotting\n",
    "This notebook defines functions to read and plot the biocellion output data for the Biocellion ABM models by the CMMC that can be found in github.com/TheCMMC. For more information on the CMMC, visit www.thecmmc.org.  \n",
    "\n",
    "To use these plotting functions the biocellion output summary should be in one directory with the following naming pattern:\n",
    "`output_parameter{par_id}_trial{trial}.txt`\n",
    "\n",
    "If the scripts and instructions in https://github.com/TheCMMC/biocellion-tools have been used to create the output, this notebook should be able to run with the resulting data."
   ]
  },
  {
   "cell_type": "markdown",
   "metadata": {
    "tags": []
   },
   "source": [
    "## User settings"
   ]
  },
  {
   "cell_type": "code",
   "execution_count": 14,
   "metadata": {},
   "outputs": [],
   "source": [
    "# Set this data folder to the place where you cloned the repository https://github.com/TheCMMC/biocellion-data\n",
    "DATA_FOLDER = Path(\"/home/jaroknor/NLeSC/InSilicoMeat/Biocellion/biocellion-data\")\n",
    "MODEL_FOLDER = Path(\"/home/jaroknor/NLeSC/InSilicoMeat/Biocellion/Biocellion-3.1/biocellion-3.1/biocellion-user\")\n",
    "FIG_FOLDER = Path(\"./figures\")"
   ]
  },
  {
   "cell_type": "code",
   "execution_count": 15,
   "metadata": {},
   "outputs": [],
   "source": [
    "ABM_ONLY_DATA_FOLDER = DATA_FOLDER / \"PLOSone_ABM-only-microcarrier\"\n",
    "ABM_ONLY_MODEL_FOLDER = MODEL_FOLDER / \"ABM-only-microcarriers\"\n",
    "\n",
    "ABM_CFD_DATA_FOLDER = DATA_FOLDER / \"PLOSone_ABM-CFD-microcarrier\"\n",
    "ABM_CFD_MODEL_FOLDER = MODEL_FOLDER / \"ABM-microcarriers\""
   ]
  },
  {
   "cell_type": "code",
   "execution_count": 16,
   "metadata": {},
   "outputs": [],
   "source": [
    "color_dict={'live': '#1f77b4', 'attached': '#2ca02c', 'dead': '#ff7f0e', 'removed': '#d62728'}"
   ]
  },
  {
   "cell_type": "markdown",
   "metadata": {},
   "source": [
    "## Generate parameters"
   ]
  },
  {
   "cell_type": "code",
   "execution_count": 128,
   "metadata": {},
   "outputs": [
    {
     "data": {
      "text/html": [
       "<div>\n",
       "<style scoped>\n",
       "    .dataframe tbody tr th:only-of-type {\n",
       "        vertical-align: middle;\n",
       "    }\n",
       "\n",
       "    .dataframe tbody tr th {\n",
       "        vertical-align: top;\n",
       "    }\n",
       "\n",
       "    .dataframe thead th {\n",
       "        text-align: right;\n",
       "    }\n",
       "</style>\n",
       "<table border=\"1\" class=\"dataframe\">\n",
       "  <thead>\n",
       "    <tr style=\"text-align: right;\">\n",
       "      <th></th>\n",
       "      <th>name</th>\n",
       "      <th>range_min</th>\n",
       "      <th>range_max</th>\n",
       "      <th>range_type</th>\n",
       "      <th>file</th>\n",
       "    </tr>\n",
       "  </thead>\n",
       "  <tbody>\n",
       "    <tr>\n",
       "      <th>0</th>\n",
       "      <td>HILLS_EXPONENT</td>\n",
       "      <td>1.000000e+00</td>\n",
       "      <td>5.000000</td>\n",
       "      <td>linear</td>\n",
       "      <td>model_define.h</td>\n",
       "    </tr>\n",
       "    <tr>\n",
       "      <th>1</th>\n",
       "      <td>MECH_STRESS_TRESHOLD_DEATH</td>\n",
       "      <td>1.000000e-07</td>\n",
       "      <td>0.000010</td>\n",
       "      <td>exponential</td>\n",
       "      <td>model_define.h</td>\n",
       "    </tr>\n",
       "    <tr>\n",
       "      <th>2</th>\n",
       "      <td>STRESS_TRESHOLD</td>\n",
       "      <td>1.000000e-08</td>\n",
       "      <td>0.000001</td>\n",
       "      <td>exponential</td>\n",
       "      <td>model_define.h</td>\n",
       "    </tr>\n",
       "    <tr>\n",
       "      <th>3</th>\n",
       "      <td>RPM</td>\n",
       "      <td>6.000000e+01</td>\n",
       "      <td>220.000000</td>\n",
       "      <td>unkown</td>\n",
       "      <td>model_routine_config.cpp</td>\n",
       "    </tr>\n",
       "  </tbody>\n",
       "</table>\n",
       "</div>"
      ],
      "text/plain": [
       "                         name     range_min   range_max   range_type  \\\n",
       "0              HILLS_EXPONENT  1.000000e+00    5.000000       linear   \n",
       "1  MECH_STRESS_TRESHOLD_DEATH  1.000000e-07    0.000010  exponential   \n",
       "2             STRESS_TRESHOLD  1.000000e-08    0.000001  exponential   \n",
       "3                         RPM  6.000000e+01  220.000000       unkown   \n",
       "\n",
       "                       file  \n",
       "0            model_define.h  \n",
       "1            model_define.h  \n",
       "2            model_define.h  \n",
       "3  model_routine_config.cpp  "
      ]
     },
     "execution_count": 128,
     "metadata": {},
     "output_type": "execute_result"
    }
   ],
   "source": [
    "parameter_columns = [\"name\", \"range_min\", \"range_max\", \"range_type\", \"file\"]\n",
    "parameter_data = [\n",
    "    [\"HILLS_EXPONENT\", 1, 5, \"linear\", \"model_define.h\"],\n",
    "    [\"MECH_STRESS_TRESHOLD_DEATH\", 10.**-7, 10.**-5, \"exponential\", \"model_define.h\"],\n",
    "    [\"STRESS_TRESHOLD\", 10.**-8, 10.**-6, \"exponential\", \"model_define.h\" ],\n",
    "    [\"RPM\", 60, 220, \"unkown\" , \"model_routine_config.cpp\"],\n",
    "]\n",
    "parameters = pd.DataFrame(parameter_data, columns = parameter_columns)\n",
    "parameters"
   ]
  },
  {
   "cell_type": "code",
   "execution_count": 129,
   "metadata": {},
   "outputs": [
    {
     "name": "stdout",
     "output_type": "stream",
     "text": [
      "                         name  range_min  range_max   range_type  \\\n",
      "0              HILLS_EXPONENT        1.0        5.0       linear   \n",
      "1  MECH_STRESS_TRESHOLD_DEATH       -7.0       -5.0  exponential   \n",
      "2             STRESS_TRESHOLD       -8.0       -6.0  exponential   \n",
      "3                         RPM       60.0      220.0       unkown   \n",
      "\n",
      "                       file  \n",
      "0            model_define.h  \n",
      "1            model_define.h  \n",
      "2            model_define.h  \n",
      "3  model_routine_config.cpp  \n",
      "[[  1.          -5.66666667  -7.33333333 113.33333333]\n",
      " [  1.          -5.66666667  -6.         113.33333333]\n",
      " [  3.66666667  -5.66666667  -6.         113.33333333]\n",
      " [  3.66666667  -5.66666667  -6.         220.        ]\n",
      " [  3.66666667  -7.          -6.         220.        ]\n",
      " [  5.          -6.33333333  -8.         113.33333333]\n",
      " [  5.          -5.          -8.         113.33333333]\n",
      " [  5.          -5.          -6.66666667 113.33333333]\n",
      " [  2.33333333  -5.          -6.66666667 113.33333333]\n",
      " [  2.33333333  -5.          -6.66666667 220.        ]\n",
      " [  1.          -5.          -8.          60.        ]\n",
      " [  1.          -5.          -8.         166.66666667]\n",
      " [  3.66666667  -5.          -8.         166.66666667]\n",
      " [  3.66666667  -6.33333333  -8.         166.66666667]\n",
      " [  3.66666667  -6.33333333  -6.66666667 166.66666667]\n",
      " [  3.66666667  -6.33333333  -8.         113.33333333]\n",
      " [  3.66666667  -6.33333333  -6.66666667 113.33333333]\n",
      " [  3.66666667  -5.          -6.66666667 113.33333333]\n",
      " [  1.          -5.          -6.66666667 113.33333333]\n",
      " [  1.          -5.          -6.66666667 220.        ]\n",
      " [  2.33333333  -5.66666667  -7.33333333 220.        ]\n",
      " [  2.33333333  -7.          -7.33333333 220.        ]\n",
      " [  2.33333333  -7.          -6.         220.        ]\n",
      " [  5.          -7.          -6.         220.        ]\n",
      " [  5.          -7.          -6.         113.33333333]\n",
      " [  5.          -6.33333333  -8.         113.33333333]\n",
      " [  2.33333333  -6.33333333  -8.         113.33333333]\n",
      " [  2.33333333  -5.          -8.         113.33333333]\n",
      " [  2.33333333  -5.          -8.         220.        ]\n",
      " [  2.33333333  -5.          -6.66666667 220.        ]\n",
      " [  5.          -7.          -7.33333333 220.        ]\n",
      " [  5.          -5.66666667  -7.33333333 220.        ]\n",
      " [  5.          -5.66666667  -7.33333333 113.33333333]\n",
      " [  5.          -5.66666667  -6.         113.33333333]\n",
      " [  2.33333333  -5.66666667  -6.         113.33333333]\n",
      " [  2.33333333  -5.66666667  -6.66666667  60.        ]\n",
      " [  2.33333333  -5.66666667  -6.66666667 166.66666667]\n",
      " [  5.          -5.66666667  -6.66666667 166.66666667]\n",
      " [  5.          -7.          -6.66666667 166.66666667]\n",
      " [  5.          -7.          -8.         166.66666667]\n",
      " [  3.66666667  -7.          -8.         166.66666667]\n",
      " [  3.66666667  -7.          -8.          60.        ]\n",
      " [  3.66666667  -5.66666667  -8.          60.        ]\n",
      " [  3.66666667  -5.66666667  -6.66666667  60.        ]\n",
      " [  1.          -5.66666667  -6.66666667  60.        ]\n",
      " [  2.33333333  -6.33333333  -6.66666667 113.33333333]\n",
      " [  5.          -6.33333333  -6.66666667 113.33333333]\n",
      " [  5.          -6.33333333  -8.         113.33333333]\n",
      " [  5.          -6.33333333  -8.         220.        ]\n",
      " [  5.          -5.          -8.         220.        ]]\n"
     ]
    },
    {
     "data": {
      "text/plain": [
       "array([[1.00000000e+00, 2.15443469e-06, 4.64158883e-08, 1.13333333e+02],\n",
       "       [1.00000000e+00, 2.15443469e-06, 1.00000000e-06, 1.13333333e+02],\n",
       "       [3.66666667e+00, 2.15443469e-06, 1.00000000e-06, 1.13333333e+02],\n",
       "       [3.66666667e+00, 2.15443469e-06, 1.00000000e-06, 2.20000000e+02],\n",
       "       [3.66666667e+00, 1.00000000e-07, 1.00000000e-06, 2.20000000e+02],\n",
       "       [5.00000000e+00, 4.64158883e-07, 1.00000000e-08, 1.13333333e+02],\n",
       "       [5.00000000e+00, 1.00000000e-05, 1.00000000e-08, 1.13333333e+02],\n",
       "       [5.00000000e+00, 1.00000000e-05, 2.15443469e-07, 1.13333333e+02],\n",
       "       [2.33333333e+00, 1.00000000e-05, 2.15443469e-07, 1.13333333e+02],\n",
       "       [2.33333333e+00, 1.00000000e-05, 2.15443469e-07, 2.20000000e+02],\n",
       "       [1.00000000e+00, 1.00000000e-05, 1.00000000e-08, 6.00000000e+01],\n",
       "       [1.00000000e+00, 1.00000000e-05, 1.00000000e-08, 1.66666667e+02],\n",
       "       [3.66666667e+00, 1.00000000e-05, 1.00000000e-08, 1.66666667e+02],\n",
       "       [3.66666667e+00, 4.64158883e-07, 1.00000000e-08, 1.66666667e+02],\n",
       "       [3.66666667e+00, 4.64158883e-07, 2.15443469e-07, 1.66666667e+02],\n",
       "       [3.66666667e+00, 4.64158883e-07, 1.00000000e-08, 1.13333333e+02],\n",
       "       [3.66666667e+00, 4.64158883e-07, 2.15443469e-07, 1.13333333e+02],\n",
       "       [3.66666667e+00, 1.00000000e-05, 2.15443469e-07, 1.13333333e+02],\n",
       "       [1.00000000e+00, 1.00000000e-05, 2.15443469e-07, 1.13333333e+02],\n",
       "       [1.00000000e+00, 1.00000000e-05, 2.15443469e-07, 2.20000000e+02],\n",
       "       [2.33333333e+00, 2.15443469e-06, 4.64158883e-08, 2.20000000e+02],\n",
       "       [2.33333333e+00, 1.00000000e-07, 4.64158883e-08, 2.20000000e+02],\n",
       "       [2.33333333e+00, 1.00000000e-07, 1.00000000e-06, 2.20000000e+02],\n",
       "       [5.00000000e+00, 1.00000000e-07, 1.00000000e-06, 2.20000000e+02],\n",
       "       [5.00000000e+00, 1.00000000e-07, 1.00000000e-06, 1.13333333e+02],\n",
       "       [5.00000000e+00, 4.64158883e-07, 1.00000000e-08, 1.13333333e+02],\n",
       "       [2.33333333e+00, 4.64158883e-07, 1.00000000e-08, 1.13333333e+02],\n",
       "       [2.33333333e+00, 1.00000000e-05, 1.00000000e-08, 1.13333333e+02],\n",
       "       [2.33333333e+00, 1.00000000e-05, 1.00000000e-08, 2.20000000e+02],\n",
       "       [2.33333333e+00, 1.00000000e-05, 2.15443469e-07, 2.20000000e+02],\n",
       "       [5.00000000e+00, 1.00000000e-07, 4.64158883e-08, 2.20000000e+02],\n",
       "       [5.00000000e+00, 2.15443469e-06, 4.64158883e-08, 2.20000000e+02],\n",
       "       [5.00000000e+00, 2.15443469e-06, 4.64158883e-08, 1.13333333e+02],\n",
       "       [5.00000000e+00, 2.15443469e-06, 1.00000000e-06, 1.13333333e+02],\n",
       "       [2.33333333e+00, 2.15443469e-06, 1.00000000e-06, 1.13333333e+02],\n",
       "       [2.33333333e+00, 2.15443469e-06, 2.15443469e-07, 6.00000000e+01],\n",
       "       [2.33333333e+00, 2.15443469e-06, 2.15443469e-07, 1.66666667e+02],\n",
       "       [5.00000000e+00, 2.15443469e-06, 2.15443469e-07, 1.66666667e+02],\n",
       "       [5.00000000e+00, 1.00000000e-07, 2.15443469e-07, 1.66666667e+02],\n",
       "       [5.00000000e+00, 1.00000000e-07, 1.00000000e-08, 1.66666667e+02],\n",
       "       [3.66666667e+00, 1.00000000e-07, 1.00000000e-08, 1.66666667e+02],\n",
       "       [3.66666667e+00, 1.00000000e-07, 1.00000000e-08, 6.00000000e+01],\n",
       "       [3.66666667e+00, 2.15443469e-06, 1.00000000e-08, 6.00000000e+01],\n",
       "       [3.66666667e+00, 2.15443469e-06, 2.15443469e-07, 6.00000000e+01],\n",
       "       [1.00000000e+00, 2.15443469e-06, 2.15443469e-07, 6.00000000e+01],\n",
       "       [2.33333333e+00, 4.64158883e-07, 2.15443469e-07, 1.13333333e+02],\n",
       "       [5.00000000e+00, 4.64158883e-07, 2.15443469e-07, 1.13333333e+02],\n",
       "       [5.00000000e+00, 4.64158883e-07, 1.00000000e-08, 1.13333333e+02],\n",
       "       [5.00000000e+00, 4.64158883e-07, 1.00000000e-08, 2.20000000e+02],\n",
       "       [5.00000000e+00, 1.00000000e-05, 1.00000000e-08, 2.20000000e+02]])"
      ]
     },
     "execution_count": 129,
     "metadata": {},
     "output_type": "execute_result"
    }
   ],
   "source": [
    "def sample_morris_parameters(parameters, num_levels=4):\n",
    "    parameters.update(np.log10(parameters.loc[parameters.range_type==\"exponential\", [\"range_min\", \"range_max\"]]))\n",
    "    print(parameters)\n",
    "    problem = {\n",
    "      'num_vars': len(parameters),\n",
    "      'names': parameters[\"name\"].values.tolist(),\n",
    "      'bounds': parameters[[\"range_min\",\"range_max\"]].values.tolist()\n",
    "    }\n",
    "    param_values = SALib.sample.morris.sample(problem, 10, num_levels=4)\n",
    "    print(param_values)\n",
    "    for param_vec in param_values:\n",
    "        for i in parameters.loc[parameters.range_type==\"exponential\"].index:\n",
    "            param_vec[i] = 10**param_vec[i]\n",
    "    return param_values \n",
    "\n",
    "parameters = sample_morris_parameters(parameters)\n",
    "parameters"
   ]
  },
  {
   "cell_type": "code",
   "execution_count": 117,
   "metadata": {},
   "outputs": [
    {
     "name": "stdout",
     "output_type": "stream",
     "text": [
      "(40, 3)\n",
      "3.3333333333333335\n"
     ]
    }
   ],
   "source": [
    "print(np.shape(param_values))\n",
    "print((len(param_values)*2)/24)"
   ]
  },
  {
   "cell_type": "code",
   "execution_count": 102,
   "metadata": {
    "tags": []
   },
   "outputs": [
    {
     "data": {
      "text/plain": [
       "<AxesSubplot:xlabel='MECH_STRESS_TRESHOLD_DEATH', ylabel='STRESS_TRESHOLD'>"
      ]
     },
     "execution_count": 102,
     "metadata": {},
     "output_type": "execute_result"
    },
    {
     "data": {
      "image/png": "[encoded data removed]",
      "text/plain": [
       "<Figure size 432x288 with 1 Axes>"
      ]
     },
     "metadata": {
      "needs_background": "light"
     },
     "output_type": "display_data"
    }
   ],
   "source": [
    "df = pd.DataFrame(param_values, columns=problem[\"names\"])\n",
    "df.plot.scatter(problem[\"names\"][0], problem[\"names\"][1], )"
   ]
  },
  {
   "cell_type": "markdown",
   "metadata": {},
   "source": [
    "## Run simulations"
   ]
  },
  {
   "cell_type": "code",
   "execution_count": null,
   "metadata": {},
   "outputs": [],
   "source": [
    "def run_biocellion(param_vector, model_folder):\n",
    "    \n",
    "def enter_parameter(parameter, parameter_loc, model_folder):\n",
    "    "
   ]
  },
  {
   "cell_type": "code",
   "execution_count": null,
   "metadata": {},
   "outputs": [],
   "source": [
    "for param in param_values:\n",
    "    run_biocellion(param_vector)"
   ]
  }
 ],
 "metadata": {
  "kernelspec": {
   "display_name": "Python 2",
   "language": "python",
   "name": "python2"
  },
  "language_info": {
   "codemirror_mode": {
    "name": "ipython",
    "version": 3
   },
   "file_extension": ".py",
   "mimetype": "text/x-python",
   "name": "python",
   "nbconvert_exporter": "python",
   "pygments_lexer": "ipython3",
   "version": "3.9.4"
  }
 },
 "nbformat": 4,
 "nbformat_minor": 4
}
