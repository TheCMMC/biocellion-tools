{
 "cells": [
  {
   "cell_type": "markdown",
   "metadata": {},
   "source": [
    "# 1. Biocellion Sensitivity Analysis - Sample\n",
    "This notebook defines functions to sample input parameters, run simulations and do a sensitivity analysis for the Biocellion ABM models by the CMMC that can be found in github.com/TheCMMC. For more information on the CMMC, visit www.thecmmc.org.  \n"
   ]
  },
  {
   "cell_type": "code",
   "execution_count": 1,
   "metadata": {},
   "outputs": [],
   "source": [
    "import matplotlib.pyplot as plt\n",
    "import pandas as pd\n",
    "import numpy as np\n",
    "from pathlib import Path\n",
    "from SALib.sample.morris import sample as morris_sample\n",
    "from SALib.plotting.morris import horizontal_bar_plot, covariance_plot, \\\n",
    "    sample_histograms"
   ]
  },
  {
   "cell_type": "markdown",
   "metadata": {
    "tags": []
   },
   "source": [
    "## User settings"
   ]
  },
  {
   "cell_type": "code",
   "execution_count": 2,
   "metadata": {},
   "outputs": [],
   "source": [
    "# Set this data folder to the place where you cloned the repository https://github.com/TheCMMC/biocellion-data\n",
    "DATA_FOLDER = Path(\"/home/jaroknor/NLeSC/InSilicoMeat/Biocellion/biocellion-data\")\n",
    "MODEL_FOLDER = Path(\"/home/jaroknor/NLeSC/InSilicoMeat/Biocellion/Biocellion-3.1/biocellion-3.1/biocellion-user\")\n",
    "TOOLS_FOLDER = Path(\"/home/jaroknor/NLeSC/InSilicoMeat/Biocellion/biocellion-tools\")\n",
    "FIG_FOLDER = Path(\"./figures\")"
   ]
  },
  {
   "cell_type": "code",
   "execution_count": 3,
   "metadata": {},
   "outputs": [],
   "source": [
    "ABM_CFD_DATA_FOLDER = DATA_FOLDER / \"PLOSone_ABM-CFD-microcarrier\"\n",
    "ABM_CFD_MODEL_FOLDER = MODEL_FOLDER / \"ABM-microcarriers\"\n",
    "ABM_CFD_PARAMETER_FILE = TOOLS_FOLDER / \"SensitivityAnalysis_ABM-CFD_ParameterInfo.csv\""
   ]
  },
  {
   "cell_type": "code",
   "execution_count": null,
   "metadata": {},
   "outputs": [],
   "source": [
    "SEED = 20190605  # Set seed for random number generation to be the date of the first seattle meeting"
   ]
  },
  {
   "cell_type": "markdown",
   "metadata": {},
   "source": [
    "## Sample the parameter space\n",
    "We use Morris sampling method to sample the parameter space. It starts at a certain parameter set and generates new ones by changing one at a time. In this way a trajectory through parameter space is set out. By choosing a number of these trajectories in a smart way, the parameter space is sampled evenly. For more information on this method see [Morris 1991](http://www.tandfonline.com/doi/abs/10.1080/00401706.1991.10484804) and [Campolongo et al. 2007](http://www.sciencedirect.com/science/article/pii/S1364815206002805). We use the package SALib that implements this and other methods along with various helper function. For more information on SALib see [the documentation](https://salib.readthedocs.io/en/latest/)."
   ]
  },
  {
   "cell_type": "code",
   "execution_count": 5,
   "metadata": {},
   "outputs": [
    {
     "data": {
      "text/html": [
       "<div>\n",
       "<style scoped>\n",
       "    .dataframe tbody tr th:only-of-type {\n",
       "        vertical-align: middle;\n",
       "    }\n",
       "\n",
       "    .dataframe tbody tr th {\n",
       "        vertical-align: top;\n",
       "    }\n",
       "\n",
       "    .dataframe thead th {\n",
       "        text-align: right;\n",
       "    }\n",
       "</style>\n",
       "<table border=\"1\" class=\"dataframe\">\n",
       "  <thead>\n",
       "    <tr style=\"text-align: right;\">\n",
       "      <th></th>\n",
       "      <th>Description</th>\n",
       "      <th>name</th>\n",
       "      <th>range_min</th>\n",
       "      <th>range_max</th>\n",
       "      <th>range_type</th>\n",
       "      <th>file</th>\n",
       "      <th>type</th>\n",
       "      <th>manuscript value</th>\n",
       "    </tr>\n",
       "  </thead>\n",
       "  <tbody>\n",
       "    <tr>\n",
       "      <th>0</th>\n",
       "      <td>NaN</td>\n",
       "      <td>STRESS_HILL_EXPONENT</td>\n",
       "      <td>1.000000e+00</td>\n",
       "      <td>10.000000</td>\n",
       "      <td>linear</td>\n",
       "      <td>model_define.h</td>\n",
       "      <td>REAL</td>\n",
       "      <td>NaN</td>\n",
       "    </tr>\n",
       "    <tr>\n",
       "      <th>1</th>\n",
       "      <td>NaN</td>\n",
       "      <td>MECH_STRESS_TRESHOLD_DEATH</td>\n",
       "      <td>1.000000e-07</td>\n",
       "      <td>0.000010</td>\n",
       "      <td>exponential</td>\n",
       "      <td>model_define.h</td>\n",
       "      <td>REAL</td>\n",
       "      <td>NaN</td>\n",
       "    </tr>\n",
       "    <tr>\n",
       "      <th>2</th>\n",
       "      <td>NaN</td>\n",
       "      <td>STRESS_TRESHOLD</td>\n",
       "      <td>1.000000e-08</td>\n",
       "      <td>0.000001</td>\n",
       "      <td>exponential</td>\n",
       "      <td>model_define.h</td>\n",
       "      <td>REAL</td>\n",
       "      <td>NaN</td>\n",
       "    </tr>\n",
       "    <tr>\n",
       "      <th>3</th>\n",
       "      <td>Cell-cell spring constant</td>\n",
       "      <td>A_AGENT_STIFFNESS_CC</td>\n",
       "      <td>1.000000e-04</td>\n",
       "      <td>0.010000</td>\n",
       "      <td>exponential</td>\n",
       "      <td>model_define.h</td>\n",
       "      <td>REAL</td>\n",
       "      <td>0.0010</td>\n",
       "    </tr>\n",
       "    <tr>\n",
       "      <th>4</th>\n",
       "      <td>Cell-cell bond flexibility</td>\n",
       "      <td>A_AGENT_BOND_S_CC</td>\n",
       "      <td>1.000000e-02</td>\n",
       "      <td>0.900000</td>\n",
       "      <td>exponential</td>\n",
       "      <td>model_define.h</td>\n",
       "      <td>REAL</td>\n",
       "      <td>0.2000</td>\n",
       "    </tr>\n",
       "    <tr>\n",
       "      <th>5</th>\n",
       "      <td>Thresholding factor for cell-cell bond breaking</td>\n",
       "      <td>A_AGENT_BOND_DESTROY_FACTOR_CC</td>\n",
       "      <td>1.000000e+00</td>\n",
       "      <td>1.500000</td>\n",
       "      <td>linear</td>\n",
       "      <td>model_define.h</td>\n",
       "      <td>REAL</td>\n",
       "      <td>1.1000</td>\n",
       "    </tr>\n",
       "    <tr>\n",
       "      <th>6</th>\n",
       "      <td>Cell-microcarrier spring constant</td>\n",
       "      <td>A_AGENT_STIFFNESS_CM</td>\n",
       "      <td>2.200000e-04</td>\n",
       "      <td>0.022000</td>\n",
       "      <td>expenential</td>\n",
       "      <td>model_define.h</td>\n",
       "      <td>REAL</td>\n",
       "      <td>0.0022</td>\n",
       "    </tr>\n",
       "    <tr>\n",
       "      <th>7</th>\n",
       "      <td>Cell-microcarrier bond flexibility</td>\n",
       "      <td>A_AGENT_BOND_S_CM</td>\n",
       "      <td>1.000000e-02</td>\n",
       "      <td>0.900000</td>\n",
       "      <td>exponential</td>\n",
       "      <td>model_define.h</td>\n",
       "      <td>REAL</td>\n",
       "      <td>0.2000</td>\n",
       "    </tr>\n",
       "    <tr>\n",
       "      <th>8</th>\n",
       "      <td>Thresholding factor for cell-microcarrier bond...</td>\n",
       "      <td>A_AGENT_BOND_DESTROY_FACTOR_CM</td>\n",
       "      <td>1.000000e+00</td>\n",
       "      <td>1.500000</td>\n",
       "      <td>linear</td>\n",
       "      <td>model_define.h</td>\n",
       "      <td>REAL</td>\n",
       "      <td>1.1000</td>\n",
       "    </tr>\n",
       "  </tbody>\n",
       "</table>\n",
       "</div>"
      ],
      "text/plain": [
       "                                         Description  \\\n",
       "0                                                NaN   \n",
       "1                                                NaN   \n",
       "2                                                NaN   \n",
       "3                          Cell-cell spring constant   \n",
       "4                         Cell-cell bond flexibility   \n",
       "5    Thresholding factor for cell-cell bond breaking   \n",
       "6                  Cell-microcarrier spring constant   \n",
       "7                 Cell-microcarrier bond flexibility   \n",
       "8  Thresholding factor for cell-microcarrier bond...   \n",
       "\n",
       "                             name     range_min  range_max   range_type  \\\n",
       "0            STRESS_HILL_EXPONENT  1.000000e+00  10.000000       linear   \n",
       "1      MECH_STRESS_TRESHOLD_DEATH  1.000000e-07   0.000010  exponential   \n",
       "2                 STRESS_TRESHOLD  1.000000e-08   0.000001  exponential   \n",
       "3            A_AGENT_STIFFNESS_CC  1.000000e-04   0.010000  exponential   \n",
       "4               A_AGENT_BOND_S_CC  1.000000e-02   0.900000  exponential   \n",
       "5  A_AGENT_BOND_DESTROY_FACTOR_CC  1.000000e+00   1.500000       linear   \n",
       "6            A_AGENT_STIFFNESS_CM  2.200000e-04   0.022000  expenential   \n",
       "7               A_AGENT_BOND_S_CM  1.000000e-02   0.900000  exponential   \n",
       "8  A_AGENT_BOND_DESTROY_FACTOR_CM  1.000000e+00   1.500000       linear   \n",
       "\n",
       "             file  type  manuscript value  \n",
       "0  model_define.h  REAL               NaN  \n",
       "1  model_define.h  REAL               NaN  \n",
       "2  model_define.h  REAL               NaN  \n",
       "3  model_define.h  REAL            0.0010  \n",
       "4  model_define.h  REAL            0.2000  \n",
       "5  model_define.h  REAL            1.1000  \n",
       "6  model_define.h  REAL            0.0022  \n",
       "7  model_define.h  REAL            0.2000  \n",
       "8  model_define.h  REAL            1.1000  "
      ]
     },
     "execution_count": 5,
     "metadata": {},
     "output_type": "execute_result"
    }
   ],
   "source": [
    "param_info = pd.read_csv(ABM_CFD_PARAMETER_FILE)\n",
    "param_info"
   ]
  },
  {
   "cell_type": "code",
   "execution_count": null,
   "metadata": {},
   "outputs": [],
   "source": [
    "# class ParameterSample:\n",
    "#     def __init__(self, model_folder, sample_output_folder, param_info_file):\n",
    "## TODO finish class  "
   ]
  },
  {
   "cell_type": "code",
   "execution_count": 6,
   "metadata": {},
   "outputs": [],
   "source": [
    "def sample_morris_parameters(parameters, num_levels=4, optimal_trajectories=None, seed=None):\n",
    "    exp10_select = parameters.loc[parameters.range_type==\"exponential\", [\"range_min\", \"range_max\"]]\n",
    "    parameters.update(np.log10(exp10_select))\n",
    "#     print(parameters)\n",
    "\n",
    "    problem = {\n",
    "      'num_vars': len(parameters),\n",
    "      'names': parameters[\"name\"].values.tolist(),\n",
    "      'bounds': parameters[[\"range_min\",\"range_max\"]].values.tolist()\n",
    "    }\n",
    "\n",
    "    param_sample = morris_sample(problem, 10, num_levels=4, optimal_trajectories=optimal_trajectories, seed=SEED)\n",
    "#     print(param_values)\n",
    "    for param_vec in param_sample:\n",
    "        for i in parameters.loc[parameters.range_type==\"exponential\"].index:\n",
    "            param_vec[i] = 10**param_vec[i]\n",
    "    return param_sample, problem"
   ]
  },
  {
   "cell_type": "code",
   "execution_count": 15,
   "metadata": {},
   "outputs": [
    {
     "name": "stdout",
     "output_type": "stream",
     "text": [
      "(100, 9)\n",
      "This analysis needs approx. 8.3 days\n"
     ]
    }
   ],
   "source": [
    "param_sample, problem = sample_morris_parameters(param_info, seed=SEED)\n",
    "\n",
    "print(np.shape(param_sample))\n",
    "print(f\"This analysis needs approx. {np.round((len(param_sample)*2)/24,1)} days\")"
   ]
  },
  {
   "cell_type": "code",
   "execution_count": 16,
   "metadata": {},
   "outputs": [],
   "source": [
    "def sample_scatterplot(x, y, df, problem, param_info):\n",
    "    if type(x) == int:\n",
    "        xname = problem[\"names\"][x]\n",
    "    elif type(x) == str:\n",
    "        xname = x\n",
    "    if type(y) == int:\n",
    "        yname = problem[\"names\"][y]\n",
    "    elif type(y) == str:\n",
    "        yname = y\n",
    "    assert xname in problem[\"names\"]\n",
    "    assert yname in problem[\"names\"]\n",
    "\n",
    "    df.plot(problem[\"names\"][x], problem[\"names\"][y], kind=\"scatter\")\n",
    "    if (param_info.loc[param_info[\"name\"]==xname, \"range_type\"] == \"exponential\").values[0]:\n",
    "        plt.xscale(\"log\")\n",
    "    if (param_info.loc[param_info[\"name\"]==yname, \"range_type\"] == \"exponential\").values[0]:\n",
    "        plt.yscale(\"log\")\n",
    "    "
   ]
  },
  {
   "cell_type": "code",
   "execution_count": 18,
   "metadata": {
    "tags": []
   },
   "outputs": [
    {
     "data": {
      "image/png": "[encoded data removed]",
      "text/plain": [
       "<Figure size 432x288 with 1 Axes>"
      ]
     },
     "metadata": {
      "needs_background": "light"
     },
     "output_type": "display_data"
    }
   ],
   "source": [
    "param_sample_df = pd.DataFrame(param_sample, columns=problem[\"names\"])\n",
    "rng = np.random.default_rng(SEED)\n",
    "choice = rng.choice(range(len(param_info)), size=2, replace=False)\n",
    "sample_scatterplot(int(choice[0]), int(choice[1]), param_sample_df, problem, param_info)"
   ]
  }
 ],
 "metadata": {
  "kernelspec": {
   "display_name": "Python 2",
   "language": "python",
   "name": "python2"
  },
  "language_info": {
   "codemirror_mode": {
    "name": "ipython",
    "version": 3
   },
   "file_extension": ".py",
   "mimetype": "text/x-python",
   "name": "python",
   "nbconvert_exporter": "python",
   "pygments_lexer": "ipython3",
   "version": "3.9.4"
  }
 },
 "nbformat": 4,
 "nbformat_minor": 4
}
