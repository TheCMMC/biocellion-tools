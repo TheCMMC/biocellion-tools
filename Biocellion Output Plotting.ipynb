{
 "cells": [
  {
   "cell_type": "code",
   "execution_count": 1,
   "metadata": {},
   "outputs": [],
   "source": [
    "import matplotlib.pyplot as plt\n"
   ]
  },
  {
   "cell_type": "markdown",
   "metadata": {},
   "source": [
    "# Biocellion Output Plotting\n",
    "This notebook defines functions to read and plot the biocellion output data for the Biocellion ABM models by the CMMC that can be found in github.com/TheCMMC. For more information on the CMMC visist www.thecmmc.org.  \n",
    "\n",
    "Currently (March 2021) it has only been used and tested for the ABM-only-microcarriers repository.\n",
    "\n",
    "To use these plotting functions the biocellion output should be in the following directory structure:\n",
    "`biocellion-user/$MODEL_NAME/output/log`"
   ]
  },
  {
   "cell_type": "code",
   "execution_count": 34,
   "metadata": {},
   "outputs": [],
   "source": [
    "def read_summary_file(filename):\n",
    "    live, dead, removed = ([],[],[])\n",
    "\n",
    "    with open(filename, 'r' ) as f :\n",
    "       for line in f:\n",
    "          if 'Live Cells' in line :\n",
    "              live.append( int( line.strip().split(':')[-1] ) )\n",
    "          elif 'Death Cells' in line:\n",
    "              dead.append( int( line.strip().split(':')[-1] ))\n",
    "          elif 'Removed Cells' in line :\n",
    "              removed.append( int( line.strip().split(':')[-1] ))\n",
    "    \n",
    "    # if the lengths of these list are different print error\n",
    "    assert len(live)==len(dead)==len(removed), \"Cell count lists are of different lenghts\"\n",
    "\n",
    "    return {\"live\":live, \"dead\":dead, \"removed\":removed}\n",
    "\n",
    "def plot_single(par_id, trial):\n",
    "    filename =  f\"log_parameter{par_id}_trial{trial}/output.log\"\n",
    "    cell_counts = read_summary_file(filename)\n",
    "\n",
    "    Npoints = len( cell_counts[\"live\"] )\n",
    "    tsteps = range( Npoints)\n",
    "\n",
    "    fig, ax = plt.subplots()\n",
    "    ax.plot(tsteps, cell_counts[\"live\"], '-b', label='Live')\n",
    "    ax.plot(tsteps, cell_counts[\"dead\"], '-r', label='Apoptotic')\n",
    "    ax.plot(tsteps, cell_counts[\"removed\"], '-k', label='Death')\n",
    "    leg = ax.legend();\n",
    "    plt.ylabel('Cell count (one microcarrier)')\n",
    "    plt.xlabel('Time steps')\n",
    "    plt.savefig(\"ABMOnly_cell_counts.png\", dpi=150)\n",
    "    \n",
    "def plot_summary(par_ids, trials, states):\n",
    "    for par_id in par_ids:\n",
    "        for trial in trials:\n",
    "            filename =  f\"log_parameter{par_id}_trial{trial}/output.log\"\n",
    "\n",
    "        "
   ]
  },
  {
   "cell_type": "code",
   "execution_count": 36,
   "metadata": {},
   "outputs": [
    {
     "data": {
      "image/png": "[encoded data removed]",
      "text/plain": [
       "<Figure size 432x288 with 1 Axes>"
      ]
     },
     "metadata": {
      "needs_background": "light"
     },
     "output_type": "display_data"
    }
   ],
   "source": [
    "plot_single(4, 5)\n",
    "plot_summary()"
   ]
  },
  {
   "cell_type": "code",
   "execution_count": null,
   "metadata": {},
   "outputs": [],
   "source": []
  }
 ],
 "metadata": {
  "kernelspec": {
   "display_name": "Python 3",
   "language": "python",
   "name": "python3"
  },
  "language_info": {
   "codemirror_mode": {
    "name": "ipython",
    "version": 3
   },
   "file_extension": ".py",
   "mimetype": "text/x-python",
   "name": "python",
   "nbconvert_exporter": "python",
   "pygments_lexer": "ipython3",
   "version": "3.9.2"
  }
 },
 "nbformat": 4,
 "nbformat_minor": 4
}
